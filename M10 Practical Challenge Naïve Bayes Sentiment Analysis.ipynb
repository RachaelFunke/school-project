{
 "cells": [
  {
   "cell_type": "markdown",
   "id": "5bc36ce0-bd49-4e13-a8e0-04ba56810466",
   "metadata": {},
   "source": [
    "<h1><center> Naïve Bayes Text Classification </center></h1>\n",
    "    \n",
    "<h5><CENTER>TEAM CONTRIBUTOR: ABDULLA MAMUN, RACHAEL OJOPAGOGO, MAPALO LUKASHI</CENTER></h5>"
   ]
  },
  {
   "cell_type": "markdown",
   "id": "0dbd0299-a828-4802-bfb2-31257a8e19ad",
   "metadata": {},
   "source": [
    "# Table of Contents\n",
    "\n",
    "- Introduction\n",
    "- Data Preparation\n",
    "- Frequency Distribution Plots\n",
    "- Naïve Bayes Model Training\n",
    "- Model testing\n",
    "- Conclusions"
   ]
  },
  {
   "cell_type": "markdown",
   "id": "777af90e-0d87-4b20-a0e8-ae53f1868e01",
   "metadata": {},
   "source": [
    "# Introduction\n",
    "\n",
    "Naïve Bayes classifiers are widely recognized for their efficacy at classifying text data (e.g., sentiment analysis).\n",
    "As we’ve learned, many organizations rely on sentiment analysis algorithms to help them gauge the opinions of both existing and potential customers. For example, companies such as Amazon, TripAdvisor, Booking.com, WalMart, and Yelp (amongst others) apply sentiment analysis algorithms to the online product/service reviews provided by their customers to better understand how the public perceives competing products and services.\n",
    "\n",
    "__Problem Statement__\n",
    "\n",
    "Our task is to construct a Naïve Bayes sentiment classifier for the purposes of gauging the sentiment of movie reviews. The data set we will be working with is sourced from this site: [data](http://www.cs.cornell.edu/people/pabo/movie-review-data/). Specifically, We will be working with the polarity dataset v2.0, which is comprised of 1000 positive and 1000 negative movie reviews. Each movie review is in the form of freeform text captured from web site postings. To complete this assignment we will need to make use of a fair amount of pre-processing techniques to prepare the content of the reviews for use within a classification model (e.g., strip out punctuation, stop words, etc.).\n"
   ]
  },
  {
   "cell_type": "markdown",
   "id": "cb3955ff-e5cf-467b-8de6-d0eeedfbb4d6",
   "metadata": {},
   "source": [
    "# Data Preparation \n",
    "__Installing Libraries__"
   ]
  },
  {
   "cell_type": "code",
   "execution_count": 30,
   "id": "98e68643-3387-4902-8fd5-3f060cffb8ea",
   "metadata": {
    "ExecuteTime": {
     "end_time": "2024-03-24T21:59:20.859077Z",
     "start_time": "2024-03-24T21:59:20.849931Z"
    },
    "tags": []
   },
   "outputs": [],
   "source": [
    "# libraries for file and directory handling\n",
    "import os\n",
    "import requests\n",
    "import tarfile\n",
    "\n",
    "# Packages for visualization\n",
    "import numpy as np\n",
    "import pandas as pd\n",
    "import seaborn as sns\n",
    "import matplotlib.pyplot as plt\n",
    "import plotly.graph_objs as go\n",
    "from plotly.offline import iplot\n",
    "import plotly.io as pio\n",
    "\n",
    "# Packages for text data handling\n",
    "from io import BytesIO\n",
    "from sklearn.model_selection import train_test_split\n",
    "from sklearn.feature_extraction.text import CountVectorizer\n",
    "from sklearn.feature_extraction.text import TfidfVectorizer\n",
    "from sklearn.naive_bayes import MultinomialNB\n",
    "from sklearn.metrics import accuracy_score, classification_report\n",
    "from collections import Counter\n",
    "from nltk.tokenize import word_tokenize\n",
    "from nltk.corpus import stopwords\n",
    "import nltk\n",
    "import wordcloud\n",
    "from wordcloud import WordCloud\n",
    "from sklearn.feature_extraction.text import ENGLISH_STOP_WORDS\n",
    "\n",
    "import warnings\n",
    "warnings.filterwarnings(\"ignore\")"
   ]
  },
  {
   "cell_type": "markdown",
   "id": "8ec83686-3189-4bb7-81ed-da0df4b5242e",
   "metadata": {},
   "source": [
    "__Data Loading & Manipulation__\n",
    "\n",
    "First, we extract and load the dataset, then prepare it for analysis by transforming the reviews into properly labeled count vectors within a Term-Document Matrix.\n",
    "\n",
    "Beginning by extracting the dataset from the review_polarity.tar.gz file we have uploaded to github.\n"
   ]
  },
  {
   "cell_type": "code",
   "execution_count": 26,
   "id": "36eab5e6-c4ae-4bb3-8f25-3bd53841bac4",
   "metadata": {
    "ExecuteTime": {
     "end_time": "2024-03-24T21:57:49.301990Z",
     "start_time": "2024-03-24T21:57:47.107883Z"
    },
    "tags": []
   },
   "outputs": [
    {
     "name": "stdout",
     "output_type": "stream",
     "text": [
      "Dataset extracted successfully.\n"
     ]
    }
   ],
   "source": [
    "# URL to the .gz file in your GitHub repository (adjust if the URL is different)\n",
    "file_url = 'https://api.github.com/repos/Rakel2311/Positive/contents/'\n",
    "# Download the file\n",
    "response = requests.get(file_url)\n",
    "# Make sure the request was successful\n",
    "response.raise_for_status()\n",
    "\n",
    "# Open the downloaded .gz file\n",
    "with tarfile.open(fileobj=BytesIO(response.content), mode=\"r:gz\") as tar:\n",
    "    # Extract its contents into a directory (extract_path)\n",
    "    tar.extractall(path='.extract_path')\n",
    "\n",
    "print(\"Dataset extracted successfully.\")\n"
   ]
  },
  {
   "cell_type": "code",
   "execution_count": 27,
   "id": "bdcdab1e-6ae0-433a-824a-4eab0275a758",
   "metadata": {
    "ExecuteTime": {
     "end_time": "2024-03-24T21:57:49.442021Z",
     "start_time": "2024-03-24T21:57:49.437817Z"
    },
    "tags": []
   },
   "outputs": [
    {
     "data": {
      "text/plain": [
       "['poldata.README.2.0', 'txt_sentoken']"
      ]
     },
     "execution_count": 27,
     "metadata": {},
     "output_type": "execute_result"
    }
   ],
   "source": [
    "# Check the contents of the extracted folder\n",
    "extracted_files = os.listdir('.extract_path')\n",
    "extracted_files\n"
   ]
  },
  {
   "cell_type": "code",
   "execution_count": 28,
   "id": "71efdb51-847b-401a-a38e-bbf78084f307",
   "metadata": {
    "ExecuteTime": {
     "end_time": "2024-03-24T21:57:49.603206Z",
     "start_time": "2024-03-24T21:57:49.594772Z"
    },
    "tags": []
   },
   "outputs": [
    {
     "data": {
      "text/plain": [
       "(['neg', 'pos'], {'neg': 1000, 'pos': 1000})"
      ]
     },
     "execution_count": 28,
     "metadata": {},
     "output_type": "execute_result"
    }
   ],
   "source": [
    "# Inspect the contents of the 'txt_sentoken' directory\n",
    "txt_sentoken_path = os.path.join('.extract_path', 'txt_sentoken')\n",
    "review_categories = os.listdir(txt_sentoken_path)\n",
    "\n",
    "# Display the contents\n",
    "review_categories, {category: len(os.listdir(os.path.join(txt_sentoken_path, category))) for category in review_categories}\n"
   ]
  },
  {
   "cell_type": "markdown",
   "id": "10c08ee6-0671-463a-867e-edec9d1a937b",
   "metadata": {},
   "source": [
    "**Combining the positive and negative into one dataframe.**"
   ]
  },
  {
   "cell_type": "code",
   "execution_count": 5,
   "id": "0d8f6b55-9d5f-486a-937d-de11bbd19250",
   "metadata": {
    "ExecuteTime": {
     "end_time": "2024-03-24T21:51:27.972172Z",
     "start_time": "2024-03-24T21:51:08.976840Z"
    },
    "tags": []
   },
   "outputs": [
    {
     "data": {
      "text/html": [
       "<div>\n",
       "<style scoped>\n",
       "    .dataframe tbody tr th:only-of-type {\n",
       "        vertical-align: middle;\n",
       "    }\n",
       "\n",
       "    .dataframe tbody tr th {\n",
       "        vertical-align: top;\n",
       "    }\n",
       "\n",
       "    .dataframe thead th {\n",
       "        text-align: right;\n",
       "    }\n",
       "</style>\n",
       "<table border=\"1\" class=\"dataframe\">\n",
       "  <thead>\n",
       "    <tr style=\"text-align: right;\">\n",
       "      <th></th>\n",
       "      <th>review</th>\n",
       "      <th>sentiment</th>\n",
       "    </tr>\n",
       "  </thead>\n",
       "  <tbody>\n",
       "    <tr>\n",
       "      <th>0</th>\n",
       "      <td>films adapted from comic books have had plenty...</td>\n",
       "      <td>pos</td>\n",
       "    </tr>\n",
       "    <tr>\n",
       "      <th>1</th>\n",
       "      <td>every now and then a movie comes along from a ...</td>\n",
       "      <td>pos</td>\n",
       "    </tr>\n",
       "    <tr>\n",
       "      <th>2</th>\n",
       "      <td>you've got mail works alot better than it dese...</td>\n",
       "      <td>pos</td>\n",
       "    </tr>\n",
       "    <tr>\n",
       "      <th>3</th>\n",
       "      <td>\" jaws \" is a rare film that grabs your atten...</td>\n",
       "      <td>pos</td>\n",
       "    </tr>\n",
       "    <tr>\n",
       "      <th>4</th>\n",
       "      <td>moviemaking is a lot like being the general ma...</td>\n",
       "      <td>pos</td>\n",
       "    </tr>\n",
       "  </tbody>\n",
       "</table>\n",
       "</div>"
      ],
      "text/plain": [
       "                                              review sentiment\n",
       "0  films adapted from comic books have had plenty...       pos\n",
       "1  every now and then a movie comes along from a ...       pos\n",
       "2  you've got mail works alot better than it dese...       pos\n",
       "3   \" jaws \" is a rare film that grabs your atten...       pos\n",
       "4  moviemaking is a lot like being the general ma...       pos"
      ]
     },
     "execution_count": 5,
     "metadata": {},
     "output_type": "execute_result"
    }
   ],
   "source": [
    "# Function to load the reviews and labels into a DataFrame\n",
    "def load_reviews_and_labels(path, label):\n",
    "    files = os.listdir(path)\n",
    "    data = []\n",
    "    for file in files:\n",
    "        with open(os.path.join(path, file), 'r', encoding='utf-8') as f:\n",
    "            data.append(f.read())\n",
    "    return pd.DataFrame({'review': data, 'sentiment': label})\n",
    "\n",
    "# Load positive and negative reviews\n",
    "pos_reviews = load_reviews_and_labels(os.path.join(txt_sentoken_path, 'pos'), 'pos')\n",
    "neg_reviews = load_reviews_and_labels(os.path.join(txt_sentoken_path, 'neg'), 'neg')\n",
    "\n",
    "# Combine into a single DataFrame\n",
    "reviews_df = pd.concat([pos_reviews, neg_reviews], ignore_index=True)\n",
    "\n",
    "# Display the first few rows of the DataFrame\n",
    "reviews_df.head()\n"
   ]
  },
  {
   "cell_type": "markdown",
   "id": "1b4b84a3",
   "metadata": {},
   "source": [
    "## Exploratory Data Analysis"
   ]
  },
  {
   "cell_type": "code",
   "execution_count": 6,
   "id": "5e3cb19b-119e-4fd7-8a5a-7e8af0192bc3",
   "metadata": {
    "ExecuteTime": {
     "end_time": "2024-03-24T21:51:27.995407Z",
     "start_time": "2024-03-24T21:51:27.986293Z"
    },
    "tags": []
   },
   "outputs": [
    {
     "name": "stdout",
     "output_type": "stream",
     "text": [
      "Sentiment Counts:\n",
      " pos    1000\n",
      "neg    1000\n",
      "Name: sentiment, dtype: int64\n",
      "\n",
      "Sentiment Proportion:\n",
      " pos    0.5\n",
      "neg    0.5\n",
      "Name: sentiment, dtype: float64\n"
     ]
    }
   ],
   "source": [
    "# Counts of each sentiment\n",
    "sentiment_counts = reviews_df['sentiment'].value_counts()\n",
    "\n",
    "# Proportion of each sentiment\n",
    "sentiment_proportion = reviews_df['sentiment'].value_counts(normalize=True)\n",
    "\n",
    "print(\"Sentiment Counts:\\n\", sentiment_counts)\n",
    "print(\"\\nSentiment Proportion:\\n\", sentiment_proportion)\n"
   ]
  },
  {
   "cell_type": "markdown",
   "id": "9a16b2df-23a0-4165-a4fc-8c2000113dc0",
   "metadata": {},
   "source": [
    "### Check the duplicate values"
   ]
  },
  {
   "cell_type": "markdown",
   "id": "de05ee62-5464-4b83-a4ce-f3ee95517c6d",
   "metadata": {},
   "source": [
    "Next, we'll check the dataset for any duplicate reviews and identify if there are any null (missing) values in both the reviews and their sentiment labels."
   ]
  },
  {
   "cell_type": "code",
   "execution_count": 7,
   "id": "84958574-7b52-4dd5-928c-2f5393e9ade4",
   "metadata": {
    "ExecuteTime": {
     "end_time": "2024-03-24T21:51:28.026380Z",
     "start_time": "2024-03-24T21:51:28.019612Z"
    },
    "tags": []
   },
   "outputs": [
    {
     "name": "stdout",
     "output_type": "stream",
     "text": [
      "Number of duplicate reviews: 0\n"
     ]
    }
   ],
   "source": [
    "# Check for duplicate reviews\n",
    "duplicates = reviews_df.duplicated(subset=['review']).sum()\n",
    "print(\"Number of duplicate reviews:\", duplicates)"
   ]
  },
  {
   "cell_type": "markdown",
   "id": "8cab6261-b1ef-414c-b7d3-018777f8bd19",
   "metadata": {},
   "source": [
    "**Observation:** Our dataset has no duplicate values"
   ]
  },
  {
   "cell_type": "markdown",
   "id": "46676065-1370-43c5-917d-3e770500dc85",
   "metadata": {},
   "source": [
    "###  Identify null values"
   ]
  },
  {
   "cell_type": "code",
   "execution_count": 8,
   "id": "d08a6417",
   "metadata": {
    "ExecuteTime": {
     "end_time": "2024-03-24T21:51:28.052474Z",
     "start_time": "2024-03-24T21:51:28.046514Z"
    }
   },
   "outputs": [
    {
     "name": "stdout",
     "output_type": "stream",
     "text": [
      "Number of null reviews: 0\n",
      "Number of null sentiments: 0\n"
     ]
    }
   ],
   "source": [
    "# Check for null values in the review column\n",
    "null_reviews = reviews_df['review'].isnull().sum()\n",
    "print(\"Number of null reviews:\", null_reviews)\n",
    "\n",
    "# Check for null values in the sentiment column\n",
    "null_sentiments = reviews_df['sentiment'].isnull().sum()\n",
    "print(\"Number of null sentiments:\", null_sentiments)"
   ]
  },
  {
   "cell_type": "markdown",
   "id": "8d0b73ef",
   "metadata": {},
   "source": [
    "We are confirmed that we have no missing values"
   ]
  },
  {
   "cell_type": "markdown",
   "id": "7b623dca-550a-4153-8758-2b761c95250d",
   "metadata": {},
   "source": [
    "### Review Lengths\n",
    "First, calculate and visualize the distribution of review lengths"
   ]
  },
  {
   "cell_type": "code",
   "execution_count": 9,
   "id": "a13a7ad6-b7a6-4762-aeeb-95c5a7cee7f1",
   "metadata": {
    "ExecuteTime": {
     "end_time": "2024-03-24T21:51:28.461143Z",
     "start_time": "2024-03-24T21:51:28.071321Z"
    },
    "tags": []
   },
   "outputs": [
    {
     "data": {
      "image/png": "[encoded data removed]",
      "text/plain": [
       "<Figure size 640x480 with 1 Axes>"
      ]
     },
     "metadata": {},
     "output_type": "display_data"
    }
   ],
   "source": [
    "# Calculate review lengths\n",
    "reviews_df['review_length'] = reviews_df['review'].apply(len)\n",
    "\n",
    "# Plot the distribution of review lengths\n",
    "reviews_df['review_length'].plot(kind='hist', bins=50, title='Distribution of Review Lengths')\n",
    "plt.xlabel('Review Length')\n",
    "plt.ylabel('Frequency')\n",
    "plt.show();"
   ]
  },
  {
   "cell_type": "markdown",
   "id": "6691db2f-c73f-4ea2-8155-165f22d008be",
   "metadata": {},
   "source": [
    "**Observation:** There is a normal distribution with a slight right skew in the data for Distribution of Review Lengths"
   ]
  },
  {
   "cell_type": "markdown",
   "id": "36325115-d2e5-479f-a9d3-6e25ba6f5e19",
   "metadata": {},
   "source": [
    "### Word Frequency\n",
    "A simple frequency analysis of the most common words, excluding stopwords.\n",
    "\n",
    "__Plot the frequency distribution for the 30 words which occur most frequently in the positive\n",
    "reviews and negative reviews.__"
   ]
  },
  {
   "cell_type": "code",
   "execution_count": 29,
   "id": "5445e4e9",
   "metadata": {
    "ExecuteTime": {
     "end_time": "2024-03-24T21:59:02.963375Z",
     "start_time": "2024-03-24T21:58:59.058358Z"
    }
   },
   "outputs": [
    {
     "data": {
      "image/png": "[encoded data removed]",
      "text/plain": [
       "<Figure size 1000x600 with 1 Axes>"
      ]
     },
     "metadata": {},
     "output_type": "display_data"
    }
   ],
   "source": [
    "# Set of English stopwords\n",
    "stop_words = set(stopwords.words('english'))\n",
    "\n",
    "# Tokenize words and remove stopwords\n",
    "all_words = [word for review in neg_reviews['review'] for word in word_tokenize(review.lower()) if word.isalpha() and word not in stop_words]\n",
    "\n",
    "# Count word frequencies\n",
    "word_counts = Counter(all_words)\n",
    "\n",
    "# Most common words\n",
    "most_common_words = word_counts.most_common(30)\n",
    "\n",
    "# Plot\n",
    "plt.figure(figsize=(10, 6))\n",
    "plt.bar([word for word, _ in most_common_words], [count for _, count in most_common_words])\n",
    "plt.title('Frequency Distribution of Top 30 Most Common Words in Negative Reviews')\n",
    "plt.xlabel('Words')\n",
    "plt.ylabel('Frequency')\n",
    "plt.xticks(rotation=45, ha='right')\n",
    "plt.tight_layout()\n",
    "plt.show()\n"
   ]
  },
  {
   "cell_type": "code",
   "execution_count": 33,
   "id": "a4fb2465",
   "metadata": {
    "ExecuteTime": {
     "end_time": "2024-03-24T22:00:46.803415Z",
     "start_time": "2024-03-24T22:00:43.114745Z"
    }
   },
   "outputs": [
    {
     "data": {
      "application/vnd.plotly.v1+json": {
       "config": {
        "plotlyServerURL": "https://plot.ly"
       },
       "data": [
        {
         "marker": {
          "color": "rgb(255, 118, 87)"
         },
         "type": "bar",
         "x": [
          "film",
          "one",
          "movie",
          "like",
          "story",
          "also",
          "good",
          "even",
          "time",
          "would",
          "character",
          "much",
          "life",
          "characters",
          "first",
          "two",
          "well",
          "see",
          "way",
          "get",
          "films",
          "best",
          "people",
          "many",
          "really",
          "make",
          "little",
          "great",
          "man",
          "new"
         ],
         "y": [
          5186,
          2943,
          2497,
          1714,
          1232,
          1200,
          1190,
          1175,
          1171,
          1079,
          1067,
          1026,
          992,
          985,
          964,
          960,
          958,
          955,
          915,
          886,
          877,
          808,
          788,
          780,
          775,
          774,
          768,
          743,
          739,
          719
         ]
        }
       ],
       "layout": {
        "template": {
         "data": {
          "bar": [
           {
            "error_x": {
             "color": "#2a3f5f"
            },
            "error_y": {
             "color": "#2a3f5f"
            },
            "marker": {
             "line": {
              "color": "#E5ECF6",
              "width": 0.5
             },
             "pattern": {
              "fillmode": "overlay",
              "size": 10,
              "solidity": 0.2
             }
            },
            "type": "bar"
           }
          ],
          "barpolar": [
           {
            "marker": {
             "line": {
              "color": "#E5ECF6",
              "width": 0.5
             },
             "pattern": {
              "fillmode": "overlay",
              "size": 10,
              "solidity": 0.2
             }
            },
            "type": "barpolar"
           }
          ],
          "carpet": [
           {
            "aaxis": {
             "endlinecolor": "#2a3f5f",
             "gridcolor": "white",
             "linecolor": "white",
             "minorgridcolor": "white",
             "startlinecolor": "#2a3f5f"
            },
            "baxis": {
             "endlinecolor": "#2a3f5f",
             "gridcolor": "white",
             "linecolor": "white",
             "minorgridcolor": "white",
             "startlinecolor": "#2a3f5f"
            },
            "type": "carpet"
           }
          ],
          "choropleth": [
           {
            "colorbar": {
             "outlinewidth": 0,
             "ticks": ""
            },
            "type": "choropleth"
           }
          ],
          "contour": [
           {
            "colorbar": {
             "outlinewidth": 0,
             "ticks": ""
            },
            "colorscale": [
             [
              0,
              "#0d0887"
             ],
             [
              0.1111111111111111,
              "#46039f"
             ],
             [
              0.2222222222222222,
              "#7201a8"
             ],
             [
              0.3333333333333333,
              "#9c179e"
             ],
             [
              0.4444444444444444,
              "#bd3786"
             ],
             [
              0.5555555555555556,
              "#d8576b"
             ],
             [
              0.6666666666666666,
              "#ed7953"
             ],
             [
              0.7777777777777778,
              "#fb9f3a"
             ],
             [
              0.8888888888888888,
              "#fdca26"
             ],
             [
              1,
              "#f0f921"
             ]
            ],
            "type": "contour"
           }
          ],
          "contourcarpet": [
           {
            "colorbar": {
             "outlinewidth": 0,
             "ticks": ""
            },
            "type": "contourcarpet"
           }
          ],
          "heatmap": [
           {
            "colorbar": {
             "outlinewidth": 0,
             "ticks": ""
            },
            "colorscale": [
             [
              0,
              "#0d0887"
             ],
             [
              0.1111111111111111,
              "#46039f"
             ],
             [
              0.2222222222222222,
              "#7201a8"
             ],
             [
              0.3333333333333333,
              "#9c179e"
             ],
             [
              0.4444444444444444,
              "#bd3786"
             ],
             [
              0.5555555555555556,
              "#d8576b"
             ],
             [
              0.6666666666666666,
              "#ed7953"
             ],
             [
              0.7777777777777778,
              "#fb9f3a"
             ],
             [
              0.8888888888888888,
              "#fdca26"
             ],
             [
              1,
              "#f0f921"
             ]
            ],
            "type": "heatmap"
           }
          ],
          "heatmapgl": [
           {
            "colorbar": {
             "outlinewidth": 0,
             "ticks": ""
            },
            "colorscale": [
             [
              0,
              "#0d0887"
             ],
             [
              0.1111111111111111,
              "#46039f"
             ],
             [
              0.2222222222222222,
              "#7201a8"
             ],
             [
              0.3333333333333333,
              "#9c179e"
             ],
             [
              0.4444444444444444,
              "#bd3786"
             ],
             [
              0.5555555555555556,
              "#d8576b"
             ],
             [
              0.6666666666666666,
              "#ed7953"
             ],
             [
              0.7777777777777778,
              "#fb9f3a"
             ],
             [
              0.8888888888888888,
              "#fdca26"
             ],
             [
              1,
              "#f0f921"
             ]
            ],
            "type": "heatmapgl"
           }
          ],
          "histogram": [
           {
            "marker": {
             "pattern": {
              "fillmode": "overlay",
              "size": 10,
              "solidity": 0.2
             }
            },
            "type": "histogram"
           }
          ],
          "histogram2d": [
           {
            "colorbar": {
             "outlinewidth": 0,
             "ticks": ""
            },
            "colorscale": [
             [
              0,
              "#0d0887"
             ],
             [
              0.1111111111111111,
              "#46039f"
             ],
             [
              0.2222222222222222,
              "#7201a8"
             ],
             [
              0.3333333333333333,
              "#9c179e"
             ],
             [
              0.4444444444444444,
              "#bd3786"
             ],
             [
              0.5555555555555556,
              "#d8576b"
             ],
             [
              0.6666666666666666,
              "#ed7953"
             ],
             [
              0.7777777777777778,
              "#fb9f3a"
             ],
             [
              0.8888888888888888,
              "#fdca26"
             ],
             [
              1,
              "#f0f921"
             ]
            ],
            "type": "histogram2d"
           }
          ],
          "histogram2dcontour": [
           {
            "colorbar": {
             "outlinewidth": 0,
             "ticks": ""
            },
            "colorscale": [
             [
              0,
              "#0d0887"
             ],
             [
              0.1111111111111111,
              "#46039f"
             ],
             [
              0.2222222222222222,
              "#7201a8"
             ],
             [
              0.3333333333333333,
              "#9c179e"
             ],
             [
              0.4444444444444444,
              "#bd3786"
             ],
             [
              0.5555555555555556,
              "#d8576b"
             ],
             [
              0.6666666666666666,
              "#ed7953"
             ],
             [
              0.7777777777777778,
              "#fb9f3a"
             ],
             [
              0.8888888888888888,
              "#fdca26"
             ],
             [
              1,
              "#f0f921"
             ]
            ],
            "type": "histogram2dcontour"
           }
          ],
          "mesh3d": [
           {
            "colorbar": {
             "outlinewidth": 0,
             "ticks": ""
            },
            "type": "mesh3d"
           }
          ],
          "parcoords": [
           {
            "line": {
             "colorbar": {
              "outlinewidth": 0,
              "ticks": ""
             }
            },
            "type": "parcoords"
           }
          ],
          "pie": [
           {
            "automargin": true,
            "type": "pie"
           }
          ],
          "scatter": [
           {
            "fillpattern": {
             "fillmode": "overlay",
             "size": 10,
             "solidity": 0.2
            },
            "type": "scatter"
           }
          ],
          "scatter3d": [
           {
            "line": {
             "colorbar": {
              "outlinewidth": 0,
              "ticks": ""
             }
            },
            "marker": {
             "colorbar": {
              "outlinewidth": 0,
              "ticks": ""
             }
            },
            "type": "scatter3d"
           }
          ],
          "scattercarpet": [
           {
            "marker": {
             "colorbar": {
              "outlinewidth": 0,
              "ticks": ""
             }
            },
            "type": "scattercarpet"
           }
          ],
          "scattergeo": [
           {
            "marker": {
             "colorbar": {
              "outlinewidth": 0,
              "ticks": ""
             }
            },
            "type": "scattergeo"
           }
          ],
          "scattergl": [
           {
            "marker": {
             "colorbar": {
              "outlinewidth": 0,
              "ticks": ""
             }
            },
            "type": "scattergl"
           }
          ],
          "scattermapbox": [
           {
            "marker": {
             "colorbar": {
              "outlinewidth": 0,
              "ticks": ""
             }
            },
            "type": "scattermapbox"
           }
          ],
          "scatterpolar": [
           {
            "marker": {
             "colorbar": {
              "outlinewidth": 0,
              "ticks": ""
             }
            },
            "type": "scatterpolar"
           }
          ],
          "scatterpolargl": [
           {
            "marker": {
             "colorbar": {
              "outlinewidth": 0,
              "ticks": ""
             }
            },
            "type": "scatterpolargl"
           }
          ],
          "scatterternary": [
           {
            "marker": {
             "colorbar": {
              "outlinewidth": 0,
              "ticks": ""
             }
            },
            "type": "scatterternary"
           }
          ],
          "surface": [
           {
            "colorbar": {
             "outlinewidth": 0,
             "ticks": ""
            },
            "colorscale": [
             [
              0,
              "#0d0887"
             ],
             [
              0.1111111111111111,
              "#46039f"
             ],
             [
              0.2222222222222222,
              "#7201a8"
             ],
             [
              0.3333333333333333,
              "#9c179e"
             ],
             [
              0.4444444444444444,
              "#bd3786"
             ],
             [
              0.5555555555555556,
              "#d8576b"
             ],
             [
              0.6666666666666666,
              "#ed7953"
             ],
             [
              0.7777777777777778,
              "#fb9f3a"
             ],
             [
              0.8888888888888888,
              "#fdca26"
             ],
             [
              1,
              "#f0f921"
             ]
            ],
            "type": "surface"
           }
          ],
          "table": [
           {
            "cells": {
             "fill": {
              "color": "#EBF0F8"
             },
             "line": {
              "color": "white"
             }
            },
            "header": {
             "fill": {
              "color": "#C8D4E3"
             },
             "line": {
              "color": "white"
             }
            },
            "type": "table"
           }
          ]
         },
         "layout": {
          "annotationdefaults": {
           "arrowcolor": "#2a3f5f",
           "arrowhead": 0,
           "arrowwidth": 1
          },
          "autotypenumbers": "strict",
          "coloraxis": {
           "colorbar": {
            "outlinewidth": 0,
            "ticks": ""
           }
          },
          "colorscale": {
           "diverging": [
            [
             0,
             "#8e0152"
            ],
            [
             0.1,
             "#c51b7d"
            ],
            [
             0.2,
             "#de77ae"
            ],
            [
             0.3,
             "#f1b6da"
            ],
            [
             0.4,
             "#fde0ef"
            ],
            [
             0.5,
             "#f7f7f7"
            ],
            [
             0.6,
             "#e6f5d0"
            ],
            [
             0.7,
             "#b8e186"
            ],
            [
             0.8,
             "#7fbc41"
            ],
            [
             0.9,
             "#4d9221"
            ],
            [
             1,
             "#276419"
            ]
           ],
           "sequential": [
            [
             0,
             "#0d0887"
            ],
            [
             0.1111111111111111,
             "#46039f"
            ],
            [
             0.2222222222222222,
             "#7201a8"
            ],
            [
             0.3333333333333333,
             "#9c179e"
            ],
            [
             0.4444444444444444,
             "#bd3786"
            ],
            [
             0.5555555555555556,
             "#d8576b"
            ],
            [
             0.6666666666666666,
             "#ed7953"
            ],
            [
             0.7777777777777778,
             "#fb9f3a"
            ],
            [
             0.8888888888888888,
             "#fdca26"
            ],
            [
             1,
             "#f0f921"
            ]
           ],
           "sequentialminus": [
            [
             0,
             "#0d0887"
            ],
            [
             0.1111111111111111,
             "#46039f"
            ],
            [
             0.2222222222222222,
             "#7201a8"
            ],
            [
             0.3333333333333333,
             "#9c179e"
            ],
            [
             0.4444444444444444,
             "#bd3786"
            ],
            [
             0.5555555555555556,
             "#d8576b"
            ],
            [
             0.6666666666666666,
             "#ed7953"
            ],
            [
             0.7777777777777778,
             "#fb9f3a"
            ],
            [
             0.8888888888888888,
             "#fdca26"
            ],
            [
             1,
             "#f0f921"
            ]
           ]
          },
          "colorway": [
           "#636efa",
           "#EF553B",
           "#00cc96",
           "#ab63fa",
           "#FFA15A",
           "#19d3f3",
           "#FF6692",
           "#B6E880",
           "#FF97FF",
           "#FECB52"
          ],
          "font": {
           "color": "#2a3f5f"
          },
          "geo": {
           "bgcolor": "white",
           "lakecolor": "white",
           "landcolor": "#E5ECF6",
           "showlakes": true,
           "showland": true,
           "subunitcolor": "white"
          },
          "hoverlabel": {
           "align": "left"
          },
          "hovermode": "closest",
          "mapbox": {
           "style": "light"
          },
          "paper_bgcolor": "white",
          "plot_bgcolor": "#E5ECF6",
          "polar": {
           "angularaxis": {
            "gridcolor": "white",
            "linecolor": "white",
            "ticks": ""
           },
           "bgcolor": "#E5ECF6",
           "radialaxis": {
            "gridcolor": "white",
            "linecolor": "white",
            "ticks": ""
           }
          },
          "scene": {
           "xaxis": {
            "backgroundcolor": "#E5ECF6",
            "gridcolor": "white",
            "gridwidth": 2,
            "linecolor": "white",
            "showbackground": true,
            "ticks": "",
            "zerolinecolor": "white"
           },
           "yaxis": {
            "backgroundcolor": "#E5ECF6",
            "gridcolor": "white",
            "gridwidth": 2,
            "linecolor": "white",
            "showbackground": true,
            "ticks": "",
            "zerolinecolor": "white"
           },
           "zaxis": {
            "backgroundcolor": "#E5ECF6",
            "gridcolor": "white",
            "gridwidth": 2,
            "linecolor": "white",
            "showbackground": true,
            "ticks": "",
            "zerolinecolor": "white"
           }
          },
          "shapedefaults": {
           "line": {
            "color": "#2a3f5f"
           }
          },
          "ternary": {
           "aaxis": {
            "gridcolor": "white",
            "linecolor": "white",
            "ticks": ""
           },
           "baxis": {
            "gridcolor": "white",
            "linecolor": "white",
            "ticks": ""
           },
           "bgcolor": "#E5ECF6",
           "caxis": {
            "gridcolor": "white",
            "linecolor": "white",
            "ticks": ""
           }
          },
          "title": {
           "x": 0.05
          },
          "xaxis": {
           "automargin": true,
           "gridcolor": "white",
           "linecolor": "white",
           "ticks": "",
           "title": {
            "standoff": 15
           },
           "zerolinecolor": "white",
           "zerolinewidth": 2
          },
          "yaxis": {
           "automargin": true,
           "gridcolor": "white",
           "linecolor": "white",
           "ticks": "",
           "title": {
            "standoff": 15
           },
           "zerolinecolor": "white",
           "zerolinewidth": 2
          }
         }
        },
        "title": {
         "text": "Top 30 Most Common positive Words"
        },
        "xaxis": {
         "tickangle": 45
        },
        "yaxis": {
         "title": {
          "text": "Frequency"
         }
        }
       }
      },
      "text/html": [
       "<div>                            <div id=\"cf611714-3fb0-4353-b14b-e5a05f1ba5e7\" class=\"plotly-graph-div\" style=\"height:525px; width:100%;\"></div>            <script type=\"text/javascript\">                require([\"plotly\"], function(Plotly) {                    window.PLOTLYENV=window.PLOTLYENV || {};                                    if (document.getElementById(\"cf611714-3fb0-4353-b14b-e5a05f1ba5e7\")) {                    Plotly.newPlot(                        \"cf611714-3fb0-4353-b14b-e5a05f1ba5e7\",                        [{\"marker\":{\"color\":\"rgb(255, 118, 87)\"},\"x\":[\"film\",\"one\",\"movie\",\"like\",\"story\",\"also\",\"good\",\"even\",\"time\",\"would\",\"character\",\"much\",\"life\",\"characters\",\"first\",\"two\",\"well\",\"see\",\"way\",\"get\",\"films\",\"best\",\"people\",\"many\",\"really\",\"make\",\"little\",\"great\",\"man\",\"new\"],\"y\":[5186,2943,2497,1714,1232,1200,1190,1175,1171,1079,1067,1026,992,985,964,960,958,955,915,886,877,808,788,780,775,774,768,743,739,719],\"type\":\"bar\"}],                        {\"title\":{\"text\":\"Top 30 Most Common positive Words\"},\"xaxis\":{\"tickangle\":45},\"yaxis\":{\"title\":{\"text\":\"Frequency\"}},\"template\":{\"data\":{\"histogram2dcontour\":[{\"type\":\"histogram2dcontour\",\"colorbar\":{\"outlinewidth\":0,\"ticks\":\"\"},\"colorscale\":[[0.0,\"#0d0887\"],[0.1111111111111111,\"#46039f\"],[0.2222222222222222,\"#7201a8\"],[0.3333333333333333,\"#9c179e\"],[0.4444444444444444,\"#bd3786\"],[0.5555555555555556,\"#d8576b\"],[0.6666666666666666,\"#ed7953\"],[0.7777777777777778,\"#fb9f3a\"],[0.8888888888888888,\"#fdca26\"],[1.0,\"#f0f921\"]]}],\"choropleth\":[{\"type\":\"choropleth\",\"colorbar\":{\"outlinewidth\":0,\"ticks\":\"\"}}],\"histogram2d\":[{\"type\":\"histogram2d\",\"colorbar\":{\"outlinewidth\":0,\"ticks\":\"\"},\"colorscale\":[[0.0,\"#0d0887\"],[0.1111111111111111,\"#46039f\"],[0.2222222222222222,\"#7201a8\"],[0.3333333333333333,\"#9c179e\"],[0.4444444444444444,\"#bd3786\"],[0.5555555555555556,\"#d8576b\"],[0.6666666666666666,\"#ed7953\"],[0.7777777777777778,\"#fb9f3a\"],[0.8888888888888888,\"#fdca26\"],[1.0,\"#f0f921\"]]}],\"heatmap\":[{\"type\":\"heatmap\",\"colorbar\":{\"outlinewidth\":0,\"ticks\":\"\"},\"colorscale\":[[0.0,\"#0d0887\"],[0.1111111111111111,\"#46039f\"],[0.2222222222222222,\"#7201a8\"],[0.3333333333333333,\"#9c179e\"],[0.4444444444444444,\"#bd3786\"],[0.5555555555555556,\"#d8576b\"],[0.6666666666666666,\"#ed7953\"],[0.7777777777777778,\"#fb9f3a\"],[0.8888888888888888,\"#fdca26\"],[1.0,\"#f0f921\"]]}],\"heatmapgl\":[{\"type\":\"heatmapgl\",\"colorbar\":{\"outlinewidth\":0,\"ticks\":\"\"},\"colorscale\":[[0.0,\"#0d0887\"],[0.1111111111111111,\"#46039f\"],[0.2222222222222222,\"#7201a8\"],[0.3333333333333333,\"#9c179e\"],[0.4444444444444444,\"#bd3786\"],[0.5555555555555556,\"#d8576b\"],[0.6666666666666666,\"#ed7953\"],[0.7777777777777778,\"#fb9f3a\"],[0.8888888888888888,\"#fdca26\"],[1.0,\"#f0f921\"]]}],\"contourcarpet\":[{\"type\":\"contourcarpet\",\"colorbar\":{\"outlinewidth\":0,\"ticks\":\"\"}}],\"contour\":[{\"type\":\"contour\",\"colorbar\":{\"outlinewidth\":0,\"ticks\":\"\"},\"colorscale\":[[0.0,\"#0d0887\"],[0.1111111111111111,\"#46039f\"],[0.2222222222222222,\"#7201a8\"],[0.3333333333333333,\"#9c179e\"],[0.4444444444444444,\"#bd3786\"],[0.5555555555555556,\"#d8576b\"],[0.6666666666666666,\"#ed7953\"],[0.7777777777777778,\"#fb9f3a\"],[0.8888888888888888,\"#fdca26\"],[1.0,\"#f0f921\"]]}],\"surface\":[{\"type\":\"surface\",\"colorbar\":{\"outlinewidth\":0,\"ticks\":\"\"},\"colorscale\":[[0.0,\"#0d0887\"],[0.1111111111111111,\"#46039f\"],[0.2222222222222222,\"#7201a8\"],[0.3333333333333333,\"#9c179e\"],[0.4444444444444444,\"#bd3786\"],[0.5555555555555556,\"#d8576b\"],[0.6666666666666666,\"#ed7953\"],[0.7777777777777778,\"#fb9f3a\"],[0.8888888888888888,\"#fdca26\"],[1.0,\"#f0f921\"]]}],\"mesh3d\":[{\"type\":\"mesh3d\",\"colorbar\":{\"outlinewidth\":0,\"ticks\":\"\"}}],\"scatter\":[{\"fillpattern\":{\"fillmode\":\"overlay\",\"size\":10,\"solidity\":0.2},\"type\":\"scatter\"}],\"parcoords\":[{\"type\":\"parcoords\",\"line\":{\"colorbar\":{\"outlinewidth\":0,\"ticks\":\"\"}}}],\"scatterpolargl\":[{\"type\":\"scatterpolargl\",\"marker\":{\"colorbar\":{\"outlinewidth\":0,\"ticks\":\"\"}}}],\"bar\":[{\"error_x\":{\"color\":\"#2a3f5f\"},\"error_y\":{\"color\":\"#2a3f5f\"},\"marker\":{\"line\":{\"color\":\"#E5ECF6\",\"width\":0.5},\"pattern\":{\"fillmode\":\"overlay\",\"size\":10,\"solidity\":0.2}},\"type\":\"bar\"}],\"scattergeo\":[{\"type\":\"scattergeo\",\"marker\":{\"colorbar\":{\"outlinewidth\":0,\"ticks\":\"\"}}}],\"scatterpolar\":[{\"type\":\"scatterpolar\",\"marker\":{\"colorbar\":{\"outlinewidth\":0,\"ticks\":\"\"}}}],\"histogram\":[{\"marker\":{\"pattern\":{\"fillmode\":\"overlay\",\"size\":10,\"solidity\":0.2}},\"type\":\"histogram\"}],\"scattergl\":[{\"type\":\"scattergl\",\"marker\":{\"colorbar\":{\"outlinewidth\":0,\"ticks\":\"\"}}}],\"scatter3d\":[{\"type\":\"scatter3d\",\"line\":{\"colorbar\":{\"outlinewidth\":0,\"ticks\":\"\"}},\"marker\":{\"colorbar\":{\"outlinewidth\":0,\"ticks\":\"\"}}}],\"scattermapbox\":[{\"type\":\"scattermapbox\",\"marker\":{\"colorbar\":{\"outlinewidth\":0,\"ticks\":\"\"}}}],\"scatterternary\":[{\"type\":\"scatterternary\",\"marker\":{\"colorbar\":{\"outlinewidth\":0,\"ticks\":\"\"}}}],\"scattercarpet\":[{\"type\":\"scattercarpet\",\"marker\":{\"colorbar\":{\"outlinewidth\":0,\"ticks\":\"\"}}}],\"carpet\":[{\"aaxis\":{\"endlinecolor\":\"#2a3f5f\",\"gridcolor\":\"white\",\"linecolor\":\"white\",\"minorgridcolor\":\"white\",\"startlinecolor\":\"#2a3f5f\"},\"baxis\":{\"endlinecolor\":\"#2a3f5f\",\"gridcolor\":\"white\",\"linecolor\":\"white\",\"minorgridcolor\":\"white\",\"startlinecolor\":\"#2a3f5f\"},\"type\":\"carpet\"}],\"table\":[{\"cells\":{\"fill\":{\"color\":\"#EBF0F8\"},\"line\":{\"color\":\"white\"}},\"header\":{\"fill\":{\"color\":\"#C8D4E3\"},\"line\":{\"color\":\"white\"}},\"type\":\"table\"}],\"barpolar\":[{\"marker\":{\"line\":{\"color\":\"#E5ECF6\",\"width\":0.5},\"pattern\":{\"fillmode\":\"overlay\",\"size\":10,\"solidity\":0.2}},\"type\":\"barpolar\"}],\"pie\":[{\"automargin\":true,\"type\":\"pie\"}]},\"layout\":{\"autotypenumbers\":\"strict\",\"colorway\":[\"#636efa\",\"#EF553B\",\"#00cc96\",\"#ab63fa\",\"#FFA15A\",\"#19d3f3\",\"#FF6692\",\"#B6E880\",\"#FF97FF\",\"#FECB52\"],\"font\":{\"color\":\"#2a3f5f\"},\"hovermode\":\"closest\",\"hoverlabel\":{\"align\":\"left\"},\"paper_bgcolor\":\"white\",\"plot_bgcolor\":\"#E5ECF6\",\"polar\":{\"bgcolor\":\"#E5ECF6\",\"angularaxis\":{\"gridcolor\":\"white\",\"linecolor\":\"white\",\"ticks\":\"\"},\"radialaxis\":{\"gridcolor\":\"white\",\"linecolor\":\"white\",\"ticks\":\"\"}},\"ternary\":{\"bgcolor\":\"#E5ECF6\",\"aaxis\":{\"gridcolor\":\"white\",\"linecolor\":\"white\",\"ticks\":\"\"},\"baxis\":{\"gridcolor\":\"white\",\"linecolor\":\"white\",\"ticks\":\"\"},\"caxis\":{\"gridcolor\":\"white\",\"linecolor\":\"white\",\"ticks\":\"\"}},\"coloraxis\":{\"colorbar\":{\"outlinewidth\":0,\"ticks\":\"\"}},\"colorscale\":{\"sequential\":[[0.0,\"#0d0887\"],[0.1111111111111111,\"#46039f\"],[0.2222222222222222,\"#7201a8\"],[0.3333333333333333,\"#9c179e\"],[0.4444444444444444,\"#bd3786\"],[0.5555555555555556,\"#d8576b\"],[0.6666666666666666,\"#ed7953\"],[0.7777777777777778,\"#fb9f3a\"],[0.8888888888888888,\"#fdca26\"],[1.0,\"#f0f921\"]],\"sequentialminus\":[[0.0,\"#0d0887\"],[0.1111111111111111,\"#46039f\"],[0.2222222222222222,\"#7201a8\"],[0.3333333333333333,\"#9c179e\"],[0.4444444444444444,\"#bd3786\"],[0.5555555555555556,\"#d8576b\"],[0.6666666666666666,\"#ed7953\"],[0.7777777777777778,\"#fb9f3a\"],[0.8888888888888888,\"#fdca26\"],[1.0,\"#f0f921\"]],\"diverging\":[[0,\"#8e0152\"],[0.1,\"#c51b7d\"],[0.2,\"#de77ae\"],[0.3,\"#f1b6da\"],[0.4,\"#fde0ef\"],[0.5,\"#f7f7f7\"],[0.6,\"#e6f5d0\"],[0.7,\"#b8e186\"],[0.8,\"#7fbc41\"],[0.9,\"#4d9221\"],[1,\"#276419\"]]},\"xaxis\":{\"gridcolor\":\"white\",\"linecolor\":\"white\",\"ticks\":\"\",\"title\":{\"standoff\":15},\"zerolinecolor\":\"white\",\"automargin\":true,\"zerolinewidth\":2},\"yaxis\":{\"gridcolor\":\"white\",\"linecolor\":\"white\",\"ticks\":\"\",\"title\":{\"standoff\":15},\"zerolinecolor\":\"white\",\"automargin\":true,\"zerolinewidth\":2},\"scene\":{\"xaxis\":{\"backgroundcolor\":\"#E5ECF6\",\"gridcolor\":\"white\",\"linecolor\":\"white\",\"showbackground\":true,\"ticks\":\"\",\"zerolinecolor\":\"white\",\"gridwidth\":2},\"yaxis\":{\"backgroundcolor\":\"#E5ECF6\",\"gridcolor\":\"white\",\"linecolor\":\"white\",\"showbackground\":true,\"ticks\":\"\",\"zerolinecolor\":\"white\",\"gridwidth\":2},\"zaxis\":{\"backgroundcolor\":\"#E5ECF6\",\"gridcolor\":\"white\",\"linecolor\":\"white\",\"showbackground\":true,\"ticks\":\"\",\"zerolinecolor\":\"white\",\"gridwidth\":2}},\"shapedefaults\":{\"line\":{\"color\":\"#2a3f5f\"}},\"annotationdefaults\":{\"arrowcolor\":\"#2a3f5f\",\"arrowhead\":0,\"arrowwidth\":1},\"geo\":{\"bgcolor\":\"white\",\"landcolor\":\"#E5ECF6\",\"subunitcolor\":\"white\",\"showland\":true,\"showlakes\":true,\"lakecolor\":\"white\"},\"title\":{\"x\":0.05},\"mapbox\":{\"style\":\"light\"}}}},                        {\"responsive\": true}                    ).then(function(){\n",
       "                            \n",
       "var gd = document.getElementById('cf611714-3fb0-4353-b14b-e5a05f1ba5e7');\n",
       "var x = new MutationObserver(function (mutations, observer) {{\n",
       "        var display = window.getComputedStyle(gd).display;\n",
       "        if (!display || display === 'none') {{\n",
       "            console.log([gd, 'removed!']);\n",
       "            Plotly.purge(gd);\n",
       "            observer.disconnect();\n",
       "        }}\n",
       "}});\n",
       "\n",
       "// Listen for the removal of the full notebook cells\n",
       "var notebookContainer = gd.closest('#notebook-container');\n",
       "if (notebookContainer) {{\n",
       "    x.observe(notebookContainer, {childList: true});\n",
       "}}\n",
       "\n",
       "// Listen for the clearing of the current output cell\n",
       "var outputEl = gd.closest('.output');\n",
       "if (outputEl) {{\n",
       "    x.observe(outputEl, {childList: true});\n",
       "}}\n",
       "\n",
       "                        })                };                });            </script>        </div>"
      ]
     },
     "metadata": {},
     "output_type": "display_data"
    }
   ],
   "source": [
    "# Tokenize words and remove stopwords\n",
    "all_words = [word for review in pos_reviews['review'] for word in word_tokenize(review.lower()) if word.isalpha() and word not in stop_words]\n",
    "\n",
    "# Count word frequencies\n",
    "word_counts = Counter(all_words)\n",
    "\n",
    "# Most common words\n",
    "most_common_words = word_counts.most_common(30)\n",
    "\n",
    "# Create bar trace\n",
    "trace = go.Bar(\n",
    "    x=[word for word, _ in most_common_words],\n",
    "    y=[count for _, count in most_common_words],\n",
    "    marker=dict(color='rgb(255, 118, 87)')\n",
    ")\n",
    "\n",
    "# Create layout\n",
    "layout = go.Layout(\n",
    "    title='Top 30 Most Common positive Words',\n",
    "    xaxis=dict(\n",
    "        tickangle=45\n",
    "    ),\n",
    "    yaxis=dict(\n",
    "        title='Frequency'\n",
    "    )\n",
    ")\n",
    "\n",
    "# Create figure and plot\n",
    "fig = go.Figure(data=[trace], layout=layout)\n",
    "\n",
    "# Show plot\n",
    "pio.show(fig)\n"
   ]
  },
  {
   "cell_type": "markdown",
   "id": "7ba5fb7b-dd4c-4854-8097-f5e69b2f5686",
   "metadata": {},
   "source": [
    "**Observation:** Common positive words in movie reviews might reflect generic terms related to movies or sentiments (e.g., \"film\", \"movie\", \"one\"). Film was the highest number of reviews 5186, one was 2943 and movie were 2497 count. Out of 30 these three were top numbers and rest 27 words have more or less 1000 positive reviews."
   ]
  },
  {
   "cell_type": "code",
   "execution_count": 34,
   "id": "7882df17",
   "metadata": {
    "ExecuteTime": {
     "end_time": "2024-03-24T22:01:02.107291Z",
     "start_time": "2024-03-24T22:00:58.552128Z"
    }
   },
   "outputs": [
    {
     "data": {
      "application/vnd.plotly.v1+json": {
       "config": {
        "plotlyServerURL": "https://plot.ly"
       },
       "data": [
        {
         "marker": {
          "color": "rgb(255, 118, 87)"
         },
         "type": "bar",
         "x": [
          "film",
          "movie",
          "one",
          "like",
          "even",
          "would",
          "good",
          "time",
          "get",
          "bad",
          "much",
          "character",
          "story",
          "could",
          "plot",
          "characters",
          "two",
          "make",
          "first",
          "really",
          "see",
          "also",
          "way",
          "little",
          "well",
          "people",
          "scene",
          "never",
          "films",
          "know"
         ],
         "y": [
          4257,
          3174,
          2639,
          1833,
          1381,
          1185,
          1126,
          1111,
          1039,
          1019,
          998,
          929,
          914,
          898,
          880,
          873,
          867,
          819,
          805,
          781,
          776,
          765,
          754,
          722,
          698,
          660,
          658,
          644,
          643,
          640
         ]
        }
       ],
       "layout": {
        "template": {
         "data": {
          "bar": [
           {
            "error_x": {
             "color": "#2a3f5f"
            },
            "error_y": {
             "color": "#2a3f5f"
            },
            "marker": {
             "line": {
              "color": "#E5ECF6",
              "width": 0.5
             },
             "pattern": {
              "fillmode": "overlay",
              "size": 10,
              "solidity": 0.2
             }
            },
            "type": "bar"
           }
          ],
          "barpolar": [
           {
            "marker": {
             "line": {
              "color": "#E5ECF6",
              "width": 0.5
             },
             "pattern": {
              "fillmode": "overlay",
              "size": 10,
              "solidity": 0.2
             }
            },
            "type": "barpolar"
           }
          ],
          "carpet": [
           {
            "aaxis": {
             "endlinecolor": "#2a3f5f",
             "gridcolor": "white",
             "linecolor": "white",
             "minorgridcolor": "white",
             "startlinecolor": "#2a3f5f"
            },
            "baxis": {
             "endlinecolor": "#2a3f5f",
             "gridcolor": "white",
             "linecolor": "white",
             "minorgridcolor": "white",
             "startlinecolor": "#2a3f5f"
            },
            "type": "carpet"
           }
          ],
          "choropleth": [
           {
            "colorbar": {
             "outlinewidth": 0,
             "ticks": ""
            },
            "type": "choropleth"
           }
          ],
          "contour": [
           {
            "colorbar": {
             "outlinewidth": 0,
             "ticks": ""
            },
            "colorscale": [
             [
              0,
              "#0d0887"
             ],
             [
              0.1111111111111111,
              "#46039f"
             ],
             [
              0.2222222222222222,
              "#7201a8"
             ],
             [
              0.3333333333333333,
              "#9c179e"
             ],
             [
              0.4444444444444444,
              "#bd3786"
             ],
             [
              0.5555555555555556,
              "#d8576b"
             ],
             [
              0.6666666666666666,
              "#ed7953"
             ],
             [
              0.7777777777777778,
              "#fb9f3a"
             ],
             [
              0.8888888888888888,
              "#fdca26"
             ],
             [
              1,
              "#f0f921"
             ]
            ],
            "type": "contour"
           }
          ],
          "contourcarpet": [
           {
            "colorbar": {
             "outlinewidth": 0,
             "ticks": ""
            },
            "type": "contourcarpet"
           }
          ],
          "heatmap": [
           {
            "colorbar": {
             "outlinewidth": 0,
             "ticks": ""
            },
            "colorscale": [
             [
              0,
              "#0d0887"
             ],
             [
              0.1111111111111111,
              "#46039f"
             ],
             [
              0.2222222222222222,
              "#7201a8"
             ],
             [
              0.3333333333333333,
              "#9c179e"
             ],
             [
              0.4444444444444444,
              "#bd3786"
             ],
             [
              0.5555555555555556,
              "#d8576b"
             ],
             [
              0.6666666666666666,
              "#ed7953"
             ],
             [
              0.7777777777777778,
              "#fb9f3a"
             ],
             [
              0.8888888888888888,
              "#fdca26"
             ],
             [
              1,
              "#f0f921"
             ]
            ],
            "type": "heatmap"
           }
          ],
          "heatmapgl": [
           {
            "colorbar": {
             "outlinewidth": 0,
             "ticks": ""
            },
            "colorscale": [
             [
              0,
              "#0d0887"
             ],
             [
              0.1111111111111111,
              "#46039f"
             ],
             [
              0.2222222222222222,
              "#7201a8"
             ],
             [
              0.3333333333333333,
              "#9c179e"
             ],
             [
              0.4444444444444444,
              "#bd3786"
             ],
             [
              0.5555555555555556,
              "#d8576b"
             ],
             [
              0.6666666666666666,
              "#ed7953"
             ],
             [
              0.7777777777777778,
              "#fb9f3a"
             ],
             [
              0.8888888888888888,
              "#fdca26"
             ],
             [
              1,
              "#f0f921"
             ]
            ],
            "type": "heatmapgl"
           }
          ],
          "histogram": [
           {
            "marker": {
             "pattern": {
              "fillmode": "overlay",
              "size": 10,
              "solidity": 0.2
             }
            },
            "type": "histogram"
           }
          ],
          "histogram2d": [
           {
            "colorbar": {
             "outlinewidth": 0,
             "ticks": ""
            },
            "colorscale": [
             [
              0,
              "#0d0887"
             ],
             [
              0.1111111111111111,
              "#46039f"
             ],
             [
              0.2222222222222222,
              "#7201a8"
             ],
             [
              0.3333333333333333,
              "#9c179e"
             ],
             [
              0.4444444444444444,
              "#bd3786"
             ],
             [
              0.5555555555555556,
              "#d8576b"
             ],
             [
              0.6666666666666666,
              "#ed7953"
             ],
             [
              0.7777777777777778,
              "#fb9f3a"
             ],
             [
              0.8888888888888888,
              "#fdca26"
             ],
             [
              1,
              "#f0f921"
             ]
            ],
            "type": "histogram2d"
           }
          ],
          "histogram2dcontour": [
           {
            "colorbar": {
             "outlinewidth": 0,
             "ticks": ""
            },
            "colorscale": [
             [
              0,
              "#0d0887"
             ],
             [
              0.1111111111111111,
              "#46039f"
             ],
             [
              0.2222222222222222,
              "#7201a8"
             ],
             [
              0.3333333333333333,
              "#9c179e"
             ],
             [
              0.4444444444444444,
              "#bd3786"
             ],
             [
              0.5555555555555556,
              "#d8576b"
             ],
             [
              0.6666666666666666,
              "#ed7953"
             ],
             [
              0.7777777777777778,
              "#fb9f3a"
             ],
             [
              0.8888888888888888,
              "#fdca26"
             ],
             [
              1,
              "#f0f921"
             ]
            ],
            "type": "histogram2dcontour"
           }
          ],
          "mesh3d": [
           {
            "colorbar": {
             "outlinewidth": 0,
             "ticks": ""
            },
            "type": "mesh3d"
           }
          ],
          "parcoords": [
           {
            "line": {
             "colorbar": {
              "outlinewidth": 0,
              "ticks": ""
             }
            },
            "type": "parcoords"
           }
          ],
          "pie": [
           {
            "automargin": true,
            "type": "pie"
           }
          ],
          "scatter": [
           {
            "fillpattern": {
             "fillmode": "overlay",
             "size": 10,
             "solidity": 0.2
            },
            "type": "scatter"
           }
          ],
          "scatter3d": [
           {
            "line": {
             "colorbar": {
              "outlinewidth": 0,
              "ticks": ""
             }
            },
            "marker": {
             "colorbar": {
              "outlinewidth": 0,
              "ticks": ""
             }
            },
            "type": "scatter3d"
           }
          ],
          "scattercarpet": [
           {
            "marker": {
             "colorbar": {
              "outlinewidth": 0,
              "ticks": ""
             }
            },
            "type": "scattercarpet"
           }
          ],
          "scattergeo": [
           {
            "marker": {
             "colorbar": {
              "outlinewidth": 0,
              "ticks": ""
             }
            },
            "type": "scattergeo"
           }
          ],
          "scattergl": [
           {
            "marker": {
             "colorbar": {
              "outlinewidth": 0,
              "ticks": ""
             }
            },
            "type": "scattergl"
           }
          ],
          "scattermapbox": [
           {
            "marker": {
             "colorbar": {
              "outlinewidth": 0,
              "ticks": ""
             }
            },
            "type": "scattermapbox"
           }
          ],
          "scatterpolar": [
           {
            "marker": {
             "colorbar": {
              "outlinewidth": 0,
              "ticks": ""
             }
            },
            "type": "scatterpolar"
           }
          ],
          "scatterpolargl": [
           {
            "marker": {
             "colorbar": {
              "outlinewidth": 0,
              "ticks": ""
             }
            },
            "type": "scatterpolargl"
           }
          ],
          "scatterternary": [
           {
            "marker": {
             "colorbar": {
              "outlinewidth": 0,
              "ticks": ""
             }
            },
            "type": "scatterternary"
           }
          ],
          "surface": [
           {
            "colorbar": {
             "outlinewidth": 0,
             "ticks": ""
            },
            "colorscale": [
             [
              0,
              "#0d0887"
             ],
             [
              0.1111111111111111,
              "#46039f"
             ],
             [
              0.2222222222222222,
              "#7201a8"
             ],
             [
              0.3333333333333333,
              "#9c179e"
             ],
             [
              0.4444444444444444,
              "#bd3786"
             ],
             [
              0.5555555555555556,
              "#d8576b"
             ],
             [
              0.6666666666666666,
              "#ed7953"
             ],
             [
              0.7777777777777778,
              "#fb9f3a"
             ],
             [
              0.8888888888888888,
              "#fdca26"
             ],
             [
              1,
              "#f0f921"
             ]
            ],
            "type": "surface"
           }
          ],
          "table": [
           {
            "cells": {
             "fill": {
              "color": "#EBF0F8"
             },
             "line": {
              "color": "white"
             }
            },
            "header": {
             "fill": {
              "color": "#C8D4E3"
             },
             "line": {
              "color": "white"
             }
            },
            "type": "table"
           }
          ]
         },
         "layout": {
          "annotationdefaults": {
           "arrowcolor": "#2a3f5f",
           "arrowhead": 0,
           "arrowwidth": 1
          },
          "autotypenumbers": "strict",
          "coloraxis": {
           "colorbar": {
            "outlinewidth": 0,
            "ticks": ""
           }
          },
          "colorscale": {
           "diverging": [
            [
             0,
             "#8e0152"
            ],
            [
             0.1,
             "#c51b7d"
            ],
            [
             0.2,
             "#de77ae"
            ],
            [
             0.3,
             "#f1b6da"
            ],
            [
             0.4,
             "#fde0ef"
            ],
            [
             0.5,
             "#f7f7f7"
            ],
            [
             0.6,
             "#e6f5d0"
            ],
            [
             0.7,
             "#b8e186"
            ],
            [
             0.8,
             "#7fbc41"
            ],
            [
             0.9,
             "#4d9221"
            ],
            [
             1,
             "#276419"
            ]
           ],
           "sequential": [
            [
             0,
             "#0d0887"
            ],
            [
             0.1111111111111111,
             "#46039f"
            ],
            [
             0.2222222222222222,
             "#7201a8"
            ],
            [
             0.3333333333333333,
             "#9c179e"
            ],
            [
             0.4444444444444444,
             "#bd3786"
            ],
            [
             0.5555555555555556,
             "#d8576b"
            ],
            [
             0.6666666666666666,
             "#ed7953"
            ],
            [
             0.7777777777777778,
             "#fb9f3a"
            ],
            [
             0.8888888888888888,
             "#fdca26"
            ],
            [
             1,
             "#f0f921"
            ]
           ],
           "sequentialminus": [
            [
             0,
             "#0d0887"
            ],
            [
             0.1111111111111111,
             "#46039f"
            ],
            [
             0.2222222222222222,
             "#7201a8"
            ],
            [
             0.3333333333333333,
             "#9c179e"
            ],
            [
             0.4444444444444444,
             "#bd3786"
            ],
            [
             0.5555555555555556,
             "#d8576b"
            ],
            [
             0.6666666666666666,
             "#ed7953"
            ],
            [
             0.7777777777777778,
             "#fb9f3a"
            ],
            [
             0.8888888888888888,
             "#fdca26"
            ],
            [
             1,
             "#f0f921"
            ]
           ]
          },
          "colorway": [
           "#636efa",
           "#EF553B",
           "#00cc96",
           "#ab63fa",
           "#FFA15A",
           "#19d3f3",
           "#FF6692",
           "#B6E880",
           "#FF97FF",
           "#FECB52"
          ],
          "font": {
           "color": "#2a3f5f"
          },
          "geo": {
           "bgcolor": "white",
           "lakecolor": "white",
           "landcolor": "#E5ECF6",
           "showlakes": true,
           "showland": true,
           "subunitcolor": "white"
          },
          "hoverlabel": {
           "align": "left"
          },
          "hovermode": "closest",
          "mapbox": {
           "style": "light"
          },
          "paper_bgcolor": "white",
          "plot_bgcolor": "#E5ECF6",
          "polar": {
           "angularaxis": {
            "gridcolor": "white",
            "linecolor": "white",
            "ticks": ""
           },
           "bgcolor": "#E5ECF6",
           "radialaxis": {
            "gridcolor": "white",
            "linecolor": "white",
            "ticks": ""
           }
          },
          "scene": {
           "xaxis": {
            "backgroundcolor": "#E5ECF6",
            "gridcolor": "white",
            "gridwidth": 2,
            "linecolor": "white",
            "showbackground": true,
            "ticks": "",
            "zerolinecolor": "white"
           },
           "yaxis": {
            "backgroundcolor": "#E5ECF6",
            "gridcolor": "white",
            "gridwidth": 2,
            "linecolor": "white",
            "showbackground": true,
            "ticks": "",
            "zerolinecolor": "white"
           },
           "zaxis": {
            "backgroundcolor": "#E5ECF6",
            "gridcolor": "white",
            "gridwidth": 2,
            "linecolor": "white",
            "showbackground": true,
            "ticks": "",
            "zerolinecolor": "white"
           }
          },
          "shapedefaults": {
           "line": {
            "color": "#2a3f5f"
           }
          },
          "ternary": {
           "aaxis": {
            "gridcolor": "white",
            "linecolor": "white",
            "ticks": ""
           },
           "baxis": {
            "gridcolor": "white",
            "linecolor": "white",
            "ticks": ""
           },
           "bgcolor": "#E5ECF6",
           "caxis": {
            "gridcolor": "white",
            "linecolor": "white",
            "ticks": ""
           }
          },
          "title": {
           "x": 0.05
          },
          "xaxis": {
           "automargin": true,
           "gridcolor": "white",
           "linecolor": "white",
           "ticks": "",
           "title": {
            "standoff": 15
           },
           "zerolinecolor": "white",
           "zerolinewidth": 2
          },
          "yaxis": {
           "automargin": true,
           "gridcolor": "white",
           "linecolor": "white",
           "ticks": "",
           "title": {
            "standoff": 15
           },
           "zerolinecolor": "white",
           "zerolinewidth": 2
          }
         }
        },
        "title": {
         "text": "Top 30 Most Common Negative Words"
        },
        "xaxis": {
         "tickangle": 45
        },
        "yaxis": {
         "title": {
          "text": "Frequency"
         }
        }
       }
      },
      "text/html": [
       "<div>                            <div id=\"48332af4-04fa-4506-8186-7f7d012163ad\" class=\"plotly-graph-div\" style=\"height:525px; width:100%;\"></div>            <script type=\"text/javascript\">                require([\"plotly\"], function(Plotly) {                    window.PLOTLYENV=window.PLOTLYENV || {};                                    if (document.getElementById(\"48332af4-04fa-4506-8186-7f7d012163ad\")) {                    Plotly.newPlot(                        \"48332af4-04fa-4506-8186-7f7d012163ad\",                        [{\"marker\":{\"color\":\"rgb(255, 118, 87)\"},\"x\":[\"film\",\"movie\",\"one\",\"like\",\"even\",\"would\",\"good\",\"time\",\"get\",\"bad\",\"much\",\"character\",\"story\",\"could\",\"plot\",\"characters\",\"two\",\"make\",\"first\",\"really\",\"see\",\"also\",\"way\",\"little\",\"well\",\"people\",\"scene\",\"never\",\"films\",\"know\"],\"y\":[4257,3174,2639,1833,1381,1185,1126,1111,1039,1019,998,929,914,898,880,873,867,819,805,781,776,765,754,722,698,660,658,644,643,640],\"type\":\"bar\"}],                        {\"title\":{\"text\":\"Top 30 Most Common Negative Words\"},\"xaxis\":{\"tickangle\":45},\"yaxis\":{\"title\":{\"text\":\"Frequency\"}},\"template\":{\"data\":{\"histogram2dcontour\":[{\"type\":\"histogram2dcontour\",\"colorbar\":{\"outlinewidth\":0,\"ticks\":\"\"},\"colorscale\":[[0.0,\"#0d0887\"],[0.1111111111111111,\"#46039f\"],[0.2222222222222222,\"#7201a8\"],[0.3333333333333333,\"#9c179e\"],[0.4444444444444444,\"#bd3786\"],[0.5555555555555556,\"#d8576b\"],[0.6666666666666666,\"#ed7953\"],[0.7777777777777778,\"#fb9f3a\"],[0.8888888888888888,\"#fdca26\"],[1.0,\"#f0f921\"]]}],\"choropleth\":[{\"type\":\"choropleth\",\"colorbar\":{\"outlinewidth\":0,\"ticks\":\"\"}}],\"histogram2d\":[{\"type\":\"histogram2d\",\"colorbar\":{\"outlinewidth\":0,\"ticks\":\"\"},\"colorscale\":[[0.0,\"#0d0887\"],[0.1111111111111111,\"#46039f\"],[0.2222222222222222,\"#7201a8\"],[0.3333333333333333,\"#9c179e\"],[0.4444444444444444,\"#bd3786\"],[0.5555555555555556,\"#d8576b\"],[0.6666666666666666,\"#ed7953\"],[0.7777777777777778,\"#fb9f3a\"],[0.8888888888888888,\"#fdca26\"],[1.0,\"#f0f921\"]]}],\"heatmap\":[{\"type\":\"heatmap\",\"colorbar\":{\"outlinewidth\":0,\"ticks\":\"\"},\"colorscale\":[[0.0,\"#0d0887\"],[0.1111111111111111,\"#46039f\"],[0.2222222222222222,\"#7201a8\"],[0.3333333333333333,\"#9c179e\"],[0.4444444444444444,\"#bd3786\"],[0.5555555555555556,\"#d8576b\"],[0.6666666666666666,\"#ed7953\"],[0.7777777777777778,\"#fb9f3a\"],[0.8888888888888888,\"#fdca26\"],[1.0,\"#f0f921\"]]}],\"heatmapgl\":[{\"type\":\"heatmapgl\",\"colorbar\":{\"outlinewidth\":0,\"ticks\":\"\"},\"colorscale\":[[0.0,\"#0d0887\"],[0.1111111111111111,\"#46039f\"],[0.2222222222222222,\"#7201a8\"],[0.3333333333333333,\"#9c179e\"],[0.4444444444444444,\"#bd3786\"],[0.5555555555555556,\"#d8576b\"],[0.6666666666666666,\"#ed7953\"],[0.7777777777777778,\"#fb9f3a\"],[0.8888888888888888,\"#fdca26\"],[1.0,\"#f0f921\"]]}],\"contourcarpet\":[{\"type\":\"contourcarpet\",\"colorbar\":{\"outlinewidth\":0,\"ticks\":\"\"}}],\"contour\":[{\"type\":\"contour\",\"colorbar\":{\"outlinewidth\":0,\"ticks\":\"\"},\"colorscale\":[[0.0,\"#0d0887\"],[0.1111111111111111,\"#46039f\"],[0.2222222222222222,\"#7201a8\"],[0.3333333333333333,\"#9c179e\"],[0.4444444444444444,\"#bd3786\"],[0.5555555555555556,\"#d8576b\"],[0.6666666666666666,\"#ed7953\"],[0.7777777777777778,\"#fb9f3a\"],[0.8888888888888888,\"#fdca26\"],[1.0,\"#f0f921\"]]}],\"surface\":[{\"type\":\"surface\",\"colorbar\":{\"outlinewidth\":0,\"ticks\":\"\"},\"colorscale\":[[0.0,\"#0d0887\"],[0.1111111111111111,\"#46039f\"],[0.2222222222222222,\"#7201a8\"],[0.3333333333333333,\"#9c179e\"],[0.4444444444444444,\"#bd3786\"],[0.5555555555555556,\"#d8576b\"],[0.6666666666666666,\"#ed7953\"],[0.7777777777777778,\"#fb9f3a\"],[0.8888888888888888,\"#fdca26\"],[1.0,\"#f0f921\"]]}],\"mesh3d\":[{\"type\":\"mesh3d\",\"colorbar\":{\"outlinewidth\":0,\"ticks\":\"\"}}],\"scatter\":[{\"fillpattern\":{\"fillmode\":\"overlay\",\"size\":10,\"solidity\":0.2},\"type\":\"scatter\"}],\"parcoords\":[{\"type\":\"parcoords\",\"line\":{\"colorbar\":{\"outlinewidth\":0,\"ticks\":\"\"}}}],\"scatterpolargl\":[{\"type\":\"scatterpolargl\",\"marker\":{\"colorbar\":{\"outlinewidth\":0,\"ticks\":\"\"}}}],\"bar\":[{\"error_x\":{\"color\":\"#2a3f5f\"},\"error_y\":{\"color\":\"#2a3f5f\"},\"marker\":{\"line\":{\"color\":\"#E5ECF6\",\"width\":0.5},\"pattern\":{\"fillmode\":\"overlay\",\"size\":10,\"solidity\":0.2}},\"type\":\"bar\"}],\"scattergeo\":[{\"type\":\"scattergeo\",\"marker\":{\"colorbar\":{\"outlinewidth\":0,\"ticks\":\"\"}}}],\"scatterpolar\":[{\"type\":\"scatterpolar\",\"marker\":{\"colorbar\":{\"outlinewidth\":0,\"ticks\":\"\"}}}],\"histogram\":[{\"marker\":{\"pattern\":{\"fillmode\":\"overlay\",\"size\":10,\"solidity\":0.2}},\"type\":\"histogram\"}],\"scattergl\":[{\"type\":\"scattergl\",\"marker\":{\"colorbar\":{\"outlinewidth\":0,\"ticks\":\"\"}}}],\"scatter3d\":[{\"type\":\"scatter3d\",\"line\":{\"colorbar\":{\"outlinewidth\":0,\"ticks\":\"\"}},\"marker\":{\"colorbar\":{\"outlinewidth\":0,\"ticks\":\"\"}}}],\"scattermapbox\":[{\"type\":\"scattermapbox\",\"marker\":{\"colorbar\":{\"outlinewidth\":0,\"ticks\":\"\"}}}],\"scatterternary\":[{\"type\":\"scatterternary\",\"marker\":{\"colorbar\":{\"outlinewidth\":0,\"ticks\":\"\"}}}],\"scattercarpet\":[{\"type\":\"scattercarpet\",\"marker\":{\"colorbar\":{\"outlinewidth\":0,\"ticks\":\"\"}}}],\"carpet\":[{\"aaxis\":{\"endlinecolor\":\"#2a3f5f\",\"gridcolor\":\"white\",\"linecolor\":\"white\",\"minorgridcolor\":\"white\",\"startlinecolor\":\"#2a3f5f\"},\"baxis\":{\"endlinecolor\":\"#2a3f5f\",\"gridcolor\":\"white\",\"linecolor\":\"white\",\"minorgridcolor\":\"white\",\"startlinecolor\":\"#2a3f5f\"},\"type\":\"carpet\"}],\"table\":[{\"cells\":{\"fill\":{\"color\":\"#EBF0F8\"},\"line\":{\"color\":\"white\"}},\"header\":{\"fill\":{\"color\":\"#C8D4E3\"},\"line\":{\"color\":\"white\"}},\"type\":\"table\"}],\"barpolar\":[{\"marker\":{\"line\":{\"color\":\"#E5ECF6\",\"width\":0.5},\"pattern\":{\"fillmode\":\"overlay\",\"size\":10,\"solidity\":0.2}},\"type\":\"barpolar\"}],\"pie\":[{\"automargin\":true,\"type\":\"pie\"}]},\"layout\":{\"autotypenumbers\":\"strict\",\"colorway\":[\"#636efa\",\"#EF553B\",\"#00cc96\",\"#ab63fa\",\"#FFA15A\",\"#19d3f3\",\"#FF6692\",\"#B6E880\",\"#FF97FF\",\"#FECB52\"],\"font\":{\"color\":\"#2a3f5f\"},\"hovermode\":\"closest\",\"hoverlabel\":{\"align\":\"left\"},\"paper_bgcolor\":\"white\",\"plot_bgcolor\":\"#E5ECF6\",\"polar\":{\"bgcolor\":\"#E5ECF6\",\"angularaxis\":{\"gridcolor\":\"white\",\"linecolor\":\"white\",\"ticks\":\"\"},\"radialaxis\":{\"gridcolor\":\"white\",\"linecolor\":\"white\",\"ticks\":\"\"}},\"ternary\":{\"bgcolor\":\"#E5ECF6\",\"aaxis\":{\"gridcolor\":\"white\",\"linecolor\":\"white\",\"ticks\":\"\"},\"baxis\":{\"gridcolor\":\"white\",\"linecolor\":\"white\",\"ticks\":\"\"},\"caxis\":{\"gridcolor\":\"white\",\"linecolor\":\"white\",\"ticks\":\"\"}},\"coloraxis\":{\"colorbar\":{\"outlinewidth\":0,\"ticks\":\"\"}},\"colorscale\":{\"sequential\":[[0.0,\"#0d0887\"],[0.1111111111111111,\"#46039f\"],[0.2222222222222222,\"#7201a8\"],[0.3333333333333333,\"#9c179e\"],[0.4444444444444444,\"#bd3786\"],[0.5555555555555556,\"#d8576b\"],[0.6666666666666666,\"#ed7953\"],[0.7777777777777778,\"#fb9f3a\"],[0.8888888888888888,\"#fdca26\"],[1.0,\"#f0f921\"]],\"sequentialminus\":[[0.0,\"#0d0887\"],[0.1111111111111111,\"#46039f\"],[0.2222222222222222,\"#7201a8\"],[0.3333333333333333,\"#9c179e\"],[0.4444444444444444,\"#bd3786\"],[0.5555555555555556,\"#d8576b\"],[0.6666666666666666,\"#ed7953\"],[0.7777777777777778,\"#fb9f3a\"],[0.8888888888888888,\"#fdca26\"],[1.0,\"#f0f921\"]],\"diverging\":[[0,\"#8e0152\"],[0.1,\"#c51b7d\"],[0.2,\"#de77ae\"],[0.3,\"#f1b6da\"],[0.4,\"#fde0ef\"],[0.5,\"#f7f7f7\"],[0.6,\"#e6f5d0\"],[0.7,\"#b8e186\"],[0.8,\"#7fbc41\"],[0.9,\"#4d9221\"],[1,\"#276419\"]]},\"xaxis\":{\"gridcolor\":\"white\",\"linecolor\":\"white\",\"ticks\":\"\",\"title\":{\"standoff\":15},\"zerolinecolor\":\"white\",\"automargin\":true,\"zerolinewidth\":2},\"yaxis\":{\"gridcolor\":\"white\",\"linecolor\":\"white\",\"ticks\":\"\",\"title\":{\"standoff\":15},\"zerolinecolor\":\"white\",\"automargin\":true,\"zerolinewidth\":2},\"scene\":{\"xaxis\":{\"backgroundcolor\":\"#E5ECF6\",\"gridcolor\":\"white\",\"linecolor\":\"white\",\"showbackground\":true,\"ticks\":\"\",\"zerolinecolor\":\"white\",\"gridwidth\":2},\"yaxis\":{\"backgroundcolor\":\"#E5ECF6\",\"gridcolor\":\"white\",\"linecolor\":\"white\",\"showbackground\":true,\"ticks\":\"\",\"zerolinecolor\":\"white\",\"gridwidth\":2},\"zaxis\":{\"backgroundcolor\":\"#E5ECF6\",\"gridcolor\":\"white\",\"linecolor\":\"white\",\"showbackground\":true,\"ticks\":\"\",\"zerolinecolor\":\"white\",\"gridwidth\":2}},\"shapedefaults\":{\"line\":{\"color\":\"#2a3f5f\"}},\"annotationdefaults\":{\"arrowcolor\":\"#2a3f5f\",\"arrowhead\":0,\"arrowwidth\":1},\"geo\":{\"bgcolor\":\"white\",\"landcolor\":\"#E5ECF6\",\"subunitcolor\":\"white\",\"showland\":true,\"showlakes\":true,\"lakecolor\":\"white\"},\"title\":{\"x\":0.05},\"mapbox\":{\"style\":\"light\"}}}},                        {\"responsive\": true}                    ).then(function(){\n",
       "                            \n",
       "var gd = document.getElementById('48332af4-04fa-4506-8186-7f7d012163ad');\n",
       "var x = new MutationObserver(function (mutations, observer) {{\n",
       "        var display = window.getComputedStyle(gd).display;\n",
       "        if (!display || display === 'none') {{\n",
       "            console.log([gd, 'removed!']);\n",
       "            Plotly.purge(gd);\n",
       "            observer.disconnect();\n",
       "        }}\n",
       "}});\n",
       "\n",
       "// Listen for the removal of the full notebook cells\n",
       "var notebookContainer = gd.closest('#notebook-container');\n",
       "if (notebookContainer) {{\n",
       "    x.observe(notebookContainer, {childList: true});\n",
       "}}\n",
       "\n",
       "// Listen for the clearing of the current output cell\n",
       "var outputEl = gd.closest('.output');\n",
       "if (outputEl) {{\n",
       "    x.observe(outputEl, {childList: true});\n",
       "}}\n",
       "\n",
       "                        })                };                });            </script>        </div>"
      ]
     },
     "metadata": {},
     "output_type": "display_data"
    }
   ],
   "source": [
    "# Tokenize words and remove stopwords\n",
    "all_words = [word for review in neg_reviews['review'] for word in word_tokenize(review.lower()) if word.isalpha() and word not in stop_words]\n",
    "\n",
    "# Count word frequencies\n",
    "word_counts = Counter(all_words)\n",
    "\n",
    "# Most common words\n",
    "most_common_words = word_counts.most_common(30)\n",
    "\n",
    "# Create bar trace\n",
    "trace = go.Bar(\n",
    "    x=[word for word, _ in most_common_words],\n",
    "    y=[count for _, count in most_common_words],\n",
    "    marker=dict(color='rgb(255, 118, 87)')\n",
    ")\n",
    "\n",
    "# Create layout\n",
    "layout = go.Layout(\n",
    "    title='Top 30 Most Common Negative Words',\n",
    "    xaxis=dict(\n",
    "        tickangle=45\n",
    "    ),\n",
    "    yaxis=dict(\n",
    "        title='Frequency'\n",
    "    )\n",
    ")\n",
    "\n",
    "# Create figure and plot\n",
    "fig = go.Figure(data=[trace], layout=layout)\n",
    "\n",
    "# Show plot\n",
    "pio.show(fig)\n"
   ]
  },
  {
   "cell_type": "code",
   "execution_count": 15,
   "id": "fe2f7c8d",
   "metadata": {
    "ExecuteTime": {
     "end_time": "2024-03-24T21:51:47.831652Z",
     "start_time": "2024-03-24T21:51:40.343752Z"
    }
   },
   "outputs": [
    {
     "data": {
      "image/png": "[encoded data removed]",
      "text/plain": [
       "<Figure size 1000x600 with 1 Axes>"
      ]
     },
     "metadata": {},
     "output_type": "display_data"
    }
   ],
   "source": [
    "# Calculating review length and unique word count\n",
    "reviews_df['unique_word_count'] = reviews_df['review'].apply(lambda x: len(set(word_tokenize(x.lower()))))\n",
    "\n",
    "# Scatter plot\n",
    "plt.figure(figsize=(10, 6))\n",
    "sns.scatterplot(data=reviews_df, x='review_length', y='unique_word_count', hue='sentiment', style='sentiment', alpha=0.5)\n",
    "plt.title('Review Length vs. Unique Word Count by Sentiment')\n",
    "plt.xlabel('Review Length')\n",
    "plt.ylabel('Unique Word Count')\n",
    "plt.show()"
   ]
  },
  {
   "cell_type": "markdown",
   "id": "38107f90",
   "metadata": {},
   "source": [
    "**Observation** The scatter plot indicates a positive correlation between review length and unique word count for both positive and negative sentiments. There is a dense clustering of reviews with shorter lengths and fewer unique words, with outliers showing significantly longer reviews. The overlap between sentiments suggests that review length and unique word count alone may not be strong discriminators for sentiment classification."
   ]
  },
  {
   "cell_type": "markdown",
   "id": "65f72fe4-58e5-4615-b8da-900cec6139ac",
   "metadata": {},
   "source": [
    "### Sentiment Distribution\n",
    "Visualizing the balance between positive and negative sentiments."
   ]
  },
  {
   "cell_type": "code",
   "execution_count": 16,
   "id": "b8552a65-3d69-4748-9a8d-71c4821f985c",
   "metadata": {
    "ExecuteTime": {
     "end_time": "2024-03-24T21:51:48.048117Z",
     "start_time": "2024-03-24T21:51:47.907381Z"
    },
    "tags": []
   },
   "outputs": [
    {
     "data": {
      "image/png": "[encoded data removed]",
      "text/plain": [
       "<Figure size 640x480 with 1 Axes>"
      ]
     },
     "metadata": {},
     "output_type": "display_data"
    }
   ],
   "source": [
    "reviews_df['sentiment'].value_counts().plot(kind='bar', title='Distribution of Sentiment')\n",
    "plt.xticks(ticks=[0, 1], labels=['Negative', 'Positive'], rotation=0)\n",
    "plt.ylabel('Count')\n",
    "plt.show();"
   ]
  },
  {
   "cell_type": "markdown",
   "id": "6824020a-e57a-43f9-8a8f-ad7be582c29f",
   "metadata": {},
   "source": [
    "**Observation:** The dataset has a balanced number of positive and negative reviews for unbiased model training."
   ]
  },
  {
   "cell_type": "markdown",
   "id": "86e50982-e8de-4c9c-9d73-94935a977e2a",
   "metadata": {},
   "source": [
    "# Naive Bayes Model Training\n",
    "\n",
    "Naive Bayes is a simple probabilistic classifier based on applying Bayes' theorem with strong (naive) independence assumptions between the features. Here we are going to use text data training with a Naive Bayes model."
   ]
  },
  {
   "cell_type": "markdown",
   "id": "5829d424-990c-422a-a8e3-607fff2c7e9f",
   "metadata": {},
   "source": [
    "For text preprocessing, we'll perform the following steps:\n",
    "\n",
    "> Tokenization: Splitting text into individual words.\n",
    "> Removing Stop Words: Filtering out common words that are typically irrelevant in analysis.\n",
    "> Vectorization: Converting text into numerical format using the TF-IDF (Term Frequency-Inverse Document Frequency) method. > TF-IDF helps in reflecting the importance of words to a document in a collection or corpus.\n",
    "Let's start by preprocessing the text data and then move on to vectorizing it for the Naïve Bayes model."
   ]
  },
  {
   "cell_type": "code",
   "execution_count": 35,
   "id": "2bc45f1f-c70a-46cf-9e0b-4ce40b04b32b",
   "metadata": {
    "ExecuteTime": {
     "end_time": "2024-03-24T22:04:08.919087Z",
     "start_time": "2024-03-24T22:04:08.166891Z"
    },
    "tags": []
   },
   "outputs": [
    {
     "data": {
      "text/plain": [
       "((1500, 39354), (500, 39354))"
      ]
     },
     "execution_count": 35,
     "metadata": {},
     "output_type": "execute_result"
    }
   ],
   "source": [
    "# Convert the reviews to a Term-Document matrix using count vectors\n",
    "vectorizer = CountVectorizer(stop_words='english')\n",
    "X = vectorizer.fit_transform(reviews_df['review'])\n",
    "y = reviews_df['sentiment']\n",
    "\n",
    "# Split the data into training and testing sets\n",
    "X_train, X_test, y_train, y_test = train_test_split(X, y, test_size=0.25, random_state=42)\n",
    "\n",
    "# Display the shape of the training and testing data\n",
    "X_train.shape, X_test.shape\n"
   ]
  },
  {
   "cell_type": "markdown",
   "id": "05ea1973",
   "metadata": {},
   "source": [
    "These observations suggest that we have a training dataset with 1500 samples and a testing dataset with 500 samples, each with 39354 features. This setup allows us to train and evaluate a Naive Bayes model for our classification task, such as text classification, with a substantial amount of data for both training and testing."
   ]
  },
  {
   "cell_type": "code",
   "execution_count": 36,
   "id": "7e4a8c04-3576-45ca-8831-52a1a6ebab69",
   "metadata": {
    "ExecuteTime": {
     "end_time": "2024-03-24T22:07:44.312027Z",
     "start_time": "2024-03-24T22:07:43.561667Z"
    },
    "tags": []
   },
   "outputs": [],
   "source": [
    "# Step 1: Preprocessing - This is handled by TfidfVectorizer, including tokenization and removal of stop words\n",
    "\n",
    "# Step 2: Vectorization\n",
    "tfidf_vectorizer = TfidfVectorizer(stop_words='english', max_df=0.7)\n",
    "# Fit and transform the training data to create TF-IDF features\n",
    "tfidf_features = tfidf_vectorizer.fit_transform(reviews_df['review'])\n",
    "\n",
    "# Split the dataset into training and testing sets as 75% and 25%\n",
    "X_train, X_test, y_train, y_test = train_test_split(tfidf_features, reviews_df['sentiment'], test_size=0.25, random_state=42)\n"
   ]
  },
  {
   "cell_type": "markdown",
   "id": "8049fe40-d1ed-47b6-9999-6d0e6364db07",
   "metadata": {},
   "source": [
    "**Model Choice: Naïve Bayes Classifier**\n",
    "\n",
    "We chose the Multinomial Naïve Bayes classifier for our sentiment analysis model. This decision was based on the nature of our data (text) and the requirement for a probabilistic approach that can handle the high-dimensional feature space efficiently. The Multinomial Naïve Bayes classifier is particularly well-suited for classification with discrete features (e.g., word counts for text classification)."
   ]
  },
  {
   "cell_type": "code",
   "execution_count": 19,
   "id": "4ded9069-38fd-448c-8d89-558b77278ec6",
   "metadata": {
    "ExecuteTime": {
     "end_time": "2024-03-24T21:51:50.057706Z",
     "start_time": "2024-03-24T21:51:50.044989Z"
    },
    "tags": []
   },
   "outputs": [],
   "source": [
    "# Step 3: Training the Naive Bayes classifier\n",
    "nb_classifier = MultinomialNB()\n",
    "nb_classifier.fit(X_train, y_train)\n",
    "\n",
    "# Predict on the test set\n",
    "y_pred = nb_classifier.predict(X_test)"
   ]
  },
  {
   "cell_type": "markdown",
   "id": "b624e902-02b8-46d1-b7ee-6d659659b7ba",
   "metadata": {},
   "source": [
    "The Naïve Bayes classifier has been successfully trained and tested on the movie reviews dataset. Here are the results:"
   ]
  },
  {
   "cell_type": "code",
   "execution_count": 20,
   "id": "ebffb6c6-10d8-41d7-b915-fb53bc5872d9",
   "metadata": {
    "ExecuteTime": {
     "end_time": "2024-03-24T21:51:50.165810Z",
     "start_time": "2024-03-24T21:51:50.138318Z"
    },
    "tags": []
   },
   "outputs": [
    {
     "name": "stdout",
     "output_type": "stream",
     "text": [
      "0.8\n",
      "              precision    recall  f1-score   support\n",
      "\n",
      "         neg       0.77      0.85      0.80       243\n",
      "         pos       0.84      0.75      0.80       257\n",
      "\n",
      "    accuracy                           0.80       500\n",
      "   macro avg       0.80      0.80      0.80       500\n",
      "weighted avg       0.80      0.80      0.80       500\n",
      "\n"
     ]
    }
   ],
   "source": [
    "# Calculate accuracy\n",
    "accuracy = accuracy_score(y_test, y_pred)\n",
    "accuracy_report = classification_report(y_test, y_pred)\n",
    "\n",
    "print(accuracy)\n",
    "\n",
    "print(accuracy_report)\n"
   ]
  },
  {
   "cell_type": "markdown",
   "id": "8b3e8f63-dc92-4f16-b68c-22993b673444",
   "metadata": {},
   "source": [
    "**Model Evaluation**\n",
    "\n",
    "After training the model, we used the testing subset to evaluate its performance. We looked at several metrics, including accuracy, precision, recall, and F1 score. These metrics provided a comprehensive view of the model's ability to classify the sentiments of movie reviews correctly."
   ]
  },
  {
   "cell_type": "markdown",
   "id": "3e8f0457-bfec-4c92-b3ad-44a10608f3e6",
   "metadata": {},
   "source": [
    "**Accuracy:** The model achieved an accuracy of 80.25% on the test set.\n",
    "\n",
    "Classification Report:\n",
    "\n",
    "**Precision** for negative reviews (0) is 0.80, and for positive reviews (1) is 0.84, indicating a slightly better ability of the model to label positive reviews correctly when it predicts them.\n",
    "\n",
    "**Recall** for negative reviews is 0.82 and for positive reviews is 0.75, showing that the model is slightly better at identifying all relevant negative reviews.\n",
    "\n",
    "**The F1-score**, which is a balance between precision and recall, is approximately 0.80 for negative reviews and 0.80 for positive reviews, suggesting a good balance between precision and recall for both classes.\n",
    "\n",
    "These metrics indicate that the Naïve Bayes classifier performs reasonably well in classifying movie reviews into positive and negative sentiments. However, there's always room for improvement, possibly by tuning the model, experimenting with different preprocessing steps, or using more advanced vectorization techniques."
   ]
  },
  {
   "cell_type": "code",
   "execution_count": 40,
   "id": "25e29319",
   "metadata": {
    "ExecuteTime": {
     "end_time": "2024-03-24T22:16:32.280383Z",
     "start_time": "2024-03-24T22:16:32.184691Z"
    }
   },
   "outputs": [
    {
     "name": "stdout",
     "output_type": "stream",
     "text": [
      "Cross-validation scores: [0.80666667 0.81       0.76       0.81666667 0.78      ]\n",
      "Mean CV accuracy: 0.7946666666666667\n",
      "Test set accuracy: 0.8\n",
      "Test set classification report:\n",
      "               precision    recall  f1-score   support\n",
      "\n",
      "         neg       0.77      0.85      0.80       243\n",
      "         pos       0.84      0.75      0.80       257\n",
      "\n",
      "    accuracy                           0.80       500\n",
      "   macro avg       0.80      0.80      0.80       500\n",
      "weighted avg       0.80      0.80      0.80       500\n",
      "\n"
     ]
    }
   ],
   "source": [
    "from sklearn.model_selection import cross_val_score\n",
    "# Perform cross-validation\n",
    "cv_scores = cross_val_score(nb_classifier, X_train, y_train, cv=5)  # 5-fold cross-validation\n",
    "print(\"Cross-validation scores:\", cv_scores)\n",
    "print(\"Mean CV accuracy:\", cv_scores.mean())\n",
    "\n",
    "# Fit the classifier on the training data\n",
    "nb_classifier.fit(X_train, y_train)\n",
    "\n",
    "# Predict on the test set\n",
    "y_pred = nb_classifier.predict(X_test)\n",
    "\n",
    "# Calculate accuracy\n",
    "accuracy = accuracy_score(y_test, y_pred)\n",
    "accuracy_report = classification_report(y_test, y_pred)\n",
    "\n",
    "print(\"Test set accuracy:\", accuracy)\n",
    "print(\"Test set classification report:\\n\", accuracy_report)"
   ]
  },
  {
   "cell_type": "markdown",
   "id": "ab65cd77",
   "metadata": {},
   "source": [
    "__Identify, display and discuss the 30 most informative features as determined by our Naïve Bayes \n",
    "classifier.__"
   ]
  },
  {
   "cell_type": "code",
   "execution_count": 21,
   "id": "76574867",
   "metadata": {
    "ExecuteTime": {
     "end_time": "2024-03-24T21:51:50.298632Z",
     "start_time": "2024-03-24T21:51:50.250918Z"
    }
   },
   "outputs": [
    {
     "name": "stdout",
     "output_type": "stream",
     "text": [
      "Feature: truman, Ratio: 5.66\n",
      "Feature: mulan, Ratio: 3.49\n",
      "Feature: lebowski, Ratio: 3.19\n",
      "Feature: spielberg, Ratio: 3.08\n",
      "Feature: derek, Ratio: 2.91\n",
      "Feature: jedi, Ratio: 2.70\n",
      "Feature: gattaca, Ratio: 2.66\n",
      "Feature: shrek, Ratio: 2.61\n",
      "Feature: crowe, Ratio: 2.60\n",
      "Feature: guido, Ratio: 2.55\n",
      "Feature: lambeau, Ratio: 2.50\n",
      "Feature: homer, Ratio: 2.50\n",
      "Feature: bulworth, Ratio: 2.49\n",
      "Feature: damon, Ratio: 2.43\n",
      "Feature: pleasantville, Ratio: 2.42\n",
      "Feature: margaret, Ratio: 2.42\n",
      "Feature: redford, Ratio: 2.40\n",
      "Feature: whale, Ratio: 2.39\n",
      "Feature: scorsese, Ratio: 2.38\n",
      "Feature: wonderfully, Ratio: 2.37\n",
      "Feature: benigni, Ratio: 2.35\n",
      "Feature: outstanding, Ratio: 2.34\n",
      "Feature: jude, Ratio: 2.32\n",
      "Feature: hanks, Ratio: 2.32\n",
      "Feature: political, Ratio: 2.29\n",
      "Feature: mamet, Ratio: 2.28\n",
      "Feature: spacey, Ratio: 2.24\n",
      "Feature: memorable, Ratio: 2.23\n",
      "Feature: lama, Ratio: 2.23\n",
      "Feature: terrific, Ratio: 2.22\n"
     ]
    }
   ],
   "source": [
    "# Retrieve the log probability of features given a class\n",
    "feature_log_prob = nb_classifier.feature_log_prob_\n",
    "\n",
    "# Compute the ratio of probabilities between positive and negative sentiment\n",
    "# We use np.exp because feature_log_prob_ contains logarithmic probabilities\n",
    "feature_prob_ratio = np.exp(feature_log_prob[1]) / np.exp(feature_log_prob[0])\n",
    "\n",
    "# Get feature names\n",
    "feature_names = tfidf_vectorizer.get_feature_names_out()\n",
    "\n",
    "# Sort features by their ratio\n",
    "most_informative_features = sorted(zip(feature_names, feature_prob_ratio), key=lambda x: x[1], reverse=True)\n",
    "\n",
    "# Display the top 30 features\n",
    "top_features = most_informative_features[:30]\n",
    "for feature, ratio in top_features:\n",
    "    print(f\"Feature: {feature}, Ratio: {ratio:.2f}\")\n"
   ]
  },
  {
   "cell_type": "markdown",
   "id": "8dbe034b",
   "metadata": {},
   "source": [
    "These features are ranked based on their importance in the classification task according to the Naive Bayes model. Features with higher ratios are considered more influential in determining the class label.For example, truman, mulan, lebowski, spielberg are top 4 features are more influential to determine the class label."
   ]
  },
  {
   "cell_type": "code",
   "execution_count": 38,
   "id": "5e00f5e7",
   "metadata": {
    "ExecuteTime": {
     "end_time": "2024-03-24T22:12:27.085453Z",
     "start_time": "2024-03-24T22:12:26.905520Z"
    }
   },
   "outputs": [
    {
     "data": {
      "image/png": "[encoded data removed]",
      "text/plain": [
       "<Figure size 1000x600 with 1 Axes>"
      ]
     },
     "metadata": {},
     "output_type": "display_data"
    }
   ],
   "source": [
    "# Top 10 features and their ratios\n",
    "features = [\n",
    "    \"truman\", \"mulan\", \"lebowski\", \"spielberg\", \"derek\",\n",
    "    \"jedi\", \"gattaca\", \"shrek\", \"crowe\", \"guido\"\n",
    "]\n",
    "ratios = [5.66, 3.49, 3.19, 3.08, 2.91, 2.70, 2.66, 2.61, 2.60, 2.55]\n",
    "\n",
    "# Create bar plot\n",
    "plt.figure(figsize=(10, 6))\n",
    "plt.bar(features, ratios, color='skyblue')\n",
    "plt.xlabel('Features')\n",
    "plt.ylabel('Ratio')\n",
    "plt.title('Top 10 Features by Ratio')\n",
    "plt.xticks(rotation=45, ha='right')\n",
    "plt.tight_layout()\n",
    "plt.show();"
   ]
  },
  {
   "cell_type": "markdown",
   "id": "6d386741-0d91-41a3-b2f1-772beea2b9fb",
   "metadata": {},
   "source": [
    "# Model Testing"
   ]
  },
  {
   "cell_type": "markdown",
   "id": "2d0e44e7-b794-405b-bac9-616c6686a443",
   "metadata": {},
   "source": [
    "Now we apply our trained Naïve Bayes sentiment analysis model to a previously unseen movie review. I'll write a generic review, and we'll see how the model classifies it. If you have a specific review in mind that you'd like to test, feel free to share it!\n"
   ]
  },
  {
   "cell_type": "markdown",
   "id": "96985176-3a29-4dcd-a0f9-19c87ce279df",
   "metadata": {},
   "source": [
    "__Test on Unseen data__"
   ]
  },
  {
   "cell_type": "markdown",
   "id": "a9e79c02-6edc-435f-ab68-4c7dfeb78a04",
   "metadata": {},
   "source": [
    "Here's a sample review for classification:\n",
    "\n",
    "**Sample Unseen Review:** \"This movie was a rollercoaster of emotions, beautifully capturing the essence of its characters. While it had its moments of predictability, the stunning performances and the gripping narrative kept me hooked till the end. Definitely a must-watch for those who appreciate cinema that touches the heart and stimulates the mind.\""
   ]
  },
  {
   "cell_type": "code",
   "execution_count": 53,
   "id": "16fbdc69-68f2-43fe-967f-e3572b687f2e",
   "metadata": {
    "ExecuteTime": {
     "end_time": "2024-03-24T22:32:40.525612Z",
     "start_time": "2024-03-24T22:32:40.514383Z"
    },
    "tags": []
   },
   "outputs": [
    {
     "name": "stdout",
     "output_type": "stream",
     "text": [
      "Predicted Sentiment: Negative\n"
     ]
    }
   ],
   "source": [
    "# Sample unseen review\n",
    "unseen_review =\"\"\"There were some things I didn't like about this film. Here's what I remember most \n",
    "strongly: a man in an ingeniously fake-looking polar bear costume (funnier than the \n",
    "'bear' from Hercules in New York); an extra with a less than believable laugh; an ex-drug\n",
    "addict martian with tics; child actors who recite their lines very slowly and carefully; \n",
    "a newspaper headline declaring that Santa has been 'kidnapped', and a giant robot. The \n",
    "least appealing acting job in the film must be when Mother Claus and her elves have been \n",
    "'frozen' by the 'Martians' weapons. They seemed to display an exaggerated amount of \n",
    "fear. Perhaps this was the preferred acting style in the 1960's??\"\"\"\n",
    "\n",
    "# Vectorize the unseen review using the fitted TF-IDF vectorizer\n",
    "unseen_review_vectorized = tfidf_vectorizer.transform([unseen_review])\n",
    "\n",
    "# Use the trained Naive Bayes classifier to predict the sentiment\n",
    "predicted_sentiment = nb_classifier.predict(unseen_review_vectorized)\n",
    "\n",
    "# Interpret the prediction result\n",
    "sentiment_interpretation = \"Positive\" if predicted_sentiment[0] == 1 else \"Negative\"\n",
    "\n",
    "# Print the result\n",
    "print(\"Predicted Sentiment:\", sentiment_interpretation)"
   ]
  },
  {
   "cell_type": "markdown",
   "id": "b62a1074",
   "metadata": {},
   "source": [
    "# Conclusion\n",
    "Naive Bayes classifier classified perfectly the unseen data. In this project we applied text preprocessing technique for sentiment analysis of the customer movie review data. The classifier predicted a negative sentiment for the provided unseen review. This means that based on the features extracted from the review and learned patterns from the training data, the model determined that the sentiment expressed in the review tends towards negativity."
   ]
  },
  {
   "cell_type": "markdown",
   "id": "21dcb8e5",
   "metadata": {},
   "source": [
    "# Reference\n",
    "\n",
    "1. https://towardsdatascience.com/naive-bayes-document-classification-in-python-e33ff50f937e\n",
    "2. https://blog.chapagain.com.np/python-nltk-sentiment-analysis-on-movie-reviews-natural-language-processing-nlp/\n",
    "\n",
    "3. https://medium.com/@abdullahkazimov/using-naive-bayes-for-sentiment-classification-on-movie-review-dataset-df818e219748"
   ]
  }
 ],
 "metadata": {
  "kernelspec": {
   "display_name": "Python 3 (ipykernel)",
   "language": "python",
   "name": "python3"
  },
  "language_info": {
   "codemirror_mode": {
    "name": "ipython",
    "version": 3
   },
   "file_extension": ".py",
   "mimetype": "text/x-python",
   "name": "python",
   "nbconvert_exporter": "python",
   "pygments_lexer": "ipython3",
   "version": "3.11.5"
  },
  "toc": {
   "base_numbering": 1,
   "nav_menu": {},
   "number_sections": true,
   "sideBar": true,
   "skip_h1_title": false,
   "title_cell": "Table of Contents",
   "title_sidebar": "Contents",
   "toc_cell": false,
   "toc_position": {
    "height": "calc(100% - 180px)",
    "left": "10px",
    "top": "150px",
    "width": "374.391px"
   },
   "toc_section_display": true,
   "toc_window_display": true
  },
  "varInspector": {
   "cols": {
    "lenName": 16,
    "lenType": 16,
    "lenVar": 40
   },
   "kernels_config": {
    "python": {
     "delete_cmd_postfix": "",
     "delete_cmd_prefix": "del ",
     "library": "var_list.py",
     "varRefreshCmd": "print(var_dic_list())"
    },
    "r": {
     "delete_cmd_postfix": ") ",
     "delete_cmd_prefix": "rm(",
     "library": "var_list.r",
     "varRefreshCmd": "cat(var_dic_list()) "
    }
   },
   "types_to_exclude": [
    "module",
    "function",
    "builtin_function_or_method",
    "instance",
    "_Feature"
   ],
   "window_display": false
  }
 },
 "nbformat": 4,
 "nbformat_minor": 5
}
